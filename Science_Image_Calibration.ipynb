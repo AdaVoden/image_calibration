{
 "cells": [
  {
   "cell_type": "markdown",
   "metadata": {},
   "source": [
    "#  Science Image Calibration notebook\n",
    "\n",
    "This notebook calibrates science images by removing bias, dark and dividing out flats.\n",
    "\n",
    "Made by: Harlan Shaw <harlan.shaw@ucalgary.ca>\n",
    "\n",
    "## Required Python packages:\n",
    "[Astropy](https://www.astropy.org/)\n",
    "\n",
    "[CCDProc](https://ccdproc.readthedocs.io/en/latest/index.html)\n",
    "\n",
    "[Astro-SCRAPPY](https://github.com/astropy/astroscrappy)\n",
    "\n",
    "It's recommended you download and install [Anaconda](https://www.anaconda.com/products/individual#Downloads) as this contains a Python environment and Astropy.\n",
    "\n",
    "You will need to install CCDProc using the Conda install command: `conda install -c conda-forge ccdproc`\n",
    "\n",
    "This will also install Astropy and Astro-SCRAPPY if not already installed.\n",
    "\n",
    "## Citations:\n",
    "This project uses:\n",
    "\n",
    "[Astropy](https://www.astropy.org/acknowledging.html)\n",
    "\n",
    "[CCDProc](https://ccdproc.readthedocs.io/en/latest/citation.html)\n",
    "\n",
    "[Astro-SCRAPPY](https://github.com/astropy/astroscrappy)\n"
   ]
  },
  {
   "cell_type": "markdown",
   "metadata": {},
   "source": [
    "## Required Variables\n",
    "\n",
    "The next cell has variables that must be set for the notebook to function"
   ]
  },
  {
   "cell_type": "code",
   "execution_count": null,
   "metadata": {},
   "outputs": [],
   "source": [
    "from pathlib import Path\n",
    "from astropy.wcs import FITSFixedWarning\n",
    "import warnings\n",
    "\n",
    "warnings.filterwarnings(\"ignore\", category=FITSFixedWarning)\n",
    "# Replace each point in Path() with the bias, dark, flat, mask files and data directory as below\n",
    "PATH_TO_BIAS = Path(\"reduced/combined_bias_mean.fit\")\n",
    "PATH_TO_DARK = Path(\"reduced/combined_dark_25C_mean.fit\")\n",
    "PATH_TO_FLAT = Path(\"reduced/combined_flat.fit\")\n",
    "PATH_TO_MASK = Path(\"reduced/combined_mask.fit\")\n",
    "PATH_TO_DATA = Path(\"I:/Work/BN Data/Skynet/1x1/17C/60s\")"
   ]
  },
  {
   "cell_type": "code",
   "execution_count": null,
   "metadata": {},
   "outputs": [],
   "source": [
    "from pathlib import Path\n",
    "from astropy.nddata import CCDData\n",
    "from astropy.units import adu, second, dimensionless_unscaled\n",
    "from ccdproc import ImageFileCollection, subtract_bias, subtract_dark, flat_correct, cosmicray_lacosmic\n",
    "\n",
    "data_files = ImageFileCollection(PATH_TO_DATA, glob_include=\"*.fit*\")\n",
    "# Read in all fits files\n",
    "combined_bias = CCDData.read(PATH_TO_BIAS, unit=adu)\n",
    "combined_dark = CCDData.read(PATH_TO_DARK, unit=adu)\n",
    "combined_flat = CCDData.read(PATH_TO_FLAT, unit=adu)\n",
    "combined_mask = CCDData.read(PATH_TO_MASK, unit=dimensionless_unscaled)\n",
    "# Take mask matrix out of CCD\n",
    "mask = combined_mask.data\n",
    "# Set up output directory\n",
    "output_directory = PATH_TO_DATA.joinpath(\"corrected_b_d_f\")\n",
    "output_directory.mkdir(parents=True, exist_ok=True)\n",
    "\n",
    "for file_name in data_files.files:\n",
    "    file_name_stem = Path(file_name).stem\n",
    "    full_path = PATH_TO_DATA.joinpath(file_name)\n",
    "    # Since we're doing 3 modifications, output filename will be _b_d_f\n",
    "    # for bias, dark and flat respectively\n",
    "    new_filename = full_path.with_stem(file_name_stem + \"_b_d_f\")\n",
    "    output_file = output_directory.joinpath(new_filename.name)\n",
    "    # Read in datafile and apply changes\n",
    "    data_ccd = CCDData.read(full_path, unit=adu)\n",
    "    data_ccd = subtract_bias(data_ccd, combined_bias, add_keyword={\"HISTORY\": f\"Subtracted master bias {PATH_TO_BIAS.name}\"})\n",
    "    data_ccd = subtract_dark(ccd=data_ccd, master=combined_dark, exposure_time=\"EXPTIME\", exposure_unit=second, scale=True, add_keyword={\"HISTORY\": f\"Subtracted master dark {PATH_TO_DARK.name}\"})\n",
    "    data_ccd = flat_correct(ccd=data_ccd, flat=combined_flat, add_keyword={\"HISTORY\": f\"Divided master flat {PATH_TO_FLAT.name}\"})\n",
    "    #data_ccd = cosmicray_lacosmic(ccd=data_ccd, sigclip=8, gain=1.42, readnoise=14.1)\n",
    "    #new_mask = data_ccd.mask | mask\n",
    "    # Mask currently obliterates all \"bad\" pixel points by setting to 0\n",
    "    #data_ccd.multiply(~new_mask)\n",
    "    #data_ccd.header[\"HISTORY\"] = f\"Removed cosmic rays with LACosmic\"\n",
    "    data_ccd.write(output_file, output_verify=\"ignore\")\n"
   ]
  }
 ],
 "metadata": {
  "interpreter": {
   "hash": "5ee390c732bbe3cddb98665d89892b2473c88eaa91dc183b6cfe090be423745e"
  },
  "kernelspec": {
   "display_name": "Python 3.9.5 ('install')",
   "language": "python",
   "name": "python3"
  },
  "language_info": {
   "codemirror_mode": {
    "name": "ipython",
    "version": 3
   },
   "file_extension": ".py",
   "mimetype": "text/x-python",
   "name": "python",
   "nbconvert_exporter": "python",
   "pygments_lexer": "ipython3",
   "version": "3.9.5"
  },
  "orig_nbformat": 4
 },
 "nbformat": 4,
 "nbformat_minor": 2
}
