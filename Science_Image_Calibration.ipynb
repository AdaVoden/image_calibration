{
 "cells": [
  {
   "cell_type": "markdown",
   "metadata": {},
   "source": [
    "#  Science Image Calibration notebook\n",
    "\n",
    "This notebook calibrates science images by removing bias, dark and dividing out flats.\n",
    "\n",
    "Made by: Harlan Shaw <harlan.shaw@ucalgary.ca>\n",
    "\n",
    "## Required Python packages:\n",
    "[Astropy](https://www.astropy.org/)\n",
    "\n",
    "[CCDProc](https://ccdproc.readthedocs.io/en/latest/index.html)\n",
    "\n",
    "[Astro-SCRAPPY](https://github.com/astropy/astroscrappy)\n",
    "\n",
    "It's recommended you download and install [Anaconda](https://www.anaconda.com/products/individual#Downloads) as this contains a Python environment and Astropy.\n",
    "\n",
    "You will need to install CCDProc using the Conda install command: `conda install -c conda-forge ccdproc`\n",
    "\n",
    "This will also install Astropy and Astro-SCRAPPY if not already installed.\n",
    "\n",
    "## Citations:\n",
    "With the projects used above, any use of this notebook requires the citations of the Python packages and papers from which they are derived. \n",
    "Their citations are located here:\n",
    "\n",
    "[Astropy](https://www.astropy.org/acknowledging.html)\n",
    "\n",
    "[CCDProc](https://ccdproc.readthedocs.io/en/latest/citation.html)\n",
    "\n",
    "[Astro-SCRAPPY](https://github.com/astropy/astroscrappy)\n"
   ]
  },
  {
   "cell_type": "markdown",
   "metadata": {},
   "source": [
    "## Required Variables\n",
    "\n",
    "The next cell has variables that must be set for the notebook to function"
   ]
  },
  {
   "cell_type": "code",
   "execution_count": 3,
   "metadata": {},
   "outputs": [],
   "source": [
    "from pathlib import Path\n",
    "from astropy.wcs import FITSFixedWarning\n",
    "import warnings\n",
    "\n",
    "warnings.filterwarnings(\"ignore\", category=FITSFixedWarning)\n",
    "\n",
    "PATH_TO_BIAS = Path(\"reduced/combined_bias_mean.fit\")\n",
    "PATH_TO_DARK = Path(\"reduced/combined_dark_10C_mean.fit\")\n",
    "PATH_TO_FLAT = Path(\"reduced/combined_flat.fit\")\n",
    "PATH_TO_MASK = Path(\"reduced/combined_mask.fit\")\n",
    "PATH_TO_DATA = Path(\"I:/Work/BN Data/2021Jan09_Wasp93b(not52b)\")"
   ]
  },
  {
   "cell_type": "code",
   "execution_count": 4,
   "metadata": {},
   "outputs": [
    {
     "name": "stderr",
     "output_type": "stream",
     "text": [
      "INFO:astropy:using the unit adu passed to the FITS reader instead of the unit adu in the FITS file.\n",
      "INFO:astropy:using the unit adu passed to the FITS reader instead of the unit adu in the FITS file.\n",
      "INFO:astropy:using the unit adu passed to the FITS reader instead of the unit adu in the FITS file.\n"
     ]
    },
    {
     "name": "stdout",
     "output_type": "stream",
     "text": [
      "INFO: using the unit adu passed to the FITS reader instead of the unit adu in the FITS file. [astropy.nddata.ccddata]\n",
      "INFO: using the unit adu passed to the FITS reader instead of the unit adu in the FITS file. [astropy.nddata.ccddata]\n",
      "INFO: using the unit adu passed to the FITS reader instead of the unit adu in the FITS file. [astropy.nddata.ccddata]\n"
     ]
    }
   ],
   "source": [
    "from pathlib import Path\n",
    "from astropy.nddata import CCDData\n",
    "from astropy.units import adu, second, dimensionless_unscaled\n",
    "from ccdproc import ImageFileCollection, subtract_bias, subtract_dark, flat_correct, cosmicray_lacosmic\n",
    "\n",
    "data_files = ImageFileCollection(PATH_TO_DATA, glob_include=\"*.fit*\")\n",
    "combined_bias = CCDData.read(PATH_TO_BIAS, unit=adu)\n",
    "combined_dark = CCDData.read(PATH_TO_DARK, unit=adu)\n",
    "combined_flat = CCDData.read(PATH_TO_FLAT, unit=adu)\n",
    "combined_mask = CCDData.read(PATH_TO_MASK, unit=dimensionless_unscaled)\n",
    "mask = combined_mask.data\n",
    "output_directory = PATH_TO_DATA.joinpath(\"corrected_b_d_f\")\n",
    "output_directory.mkdir(parents=True, exist_ok=True)\n",
    "\n",
    "for file_name in data_files.files:\n",
    "    file_name_stem = Path(file_name).stem\n",
    "    full_path = PATH_TO_DATA.joinpath(file_name)\n",
    "    new_filename = full_path.with_stem(file_name_stem + \"_b_d_f\")\n",
    "    output_file = output_directory.joinpath(new_filename.name)\n",
    "    data_ccd = CCDData.read(full_path, unit=adu)\n",
    "    data_ccd = subtract_bias(data_ccd, combined_bias, add_keyword={\"HISTORY\": f\"Subtracted master bias {PATH_TO_BIAS.name}\"})\n",
    "    data_ccd = subtract_dark(ccd=data_ccd, master=combined_dark, exposure_time=\"EXPTIME\", exposure_unit=second, scale=True, add_keyword={\"HISTORY\": f\"Subtracted master dark {PATH_TO_DARK.name}\"})\n",
    "    data_ccd = flat_correct(ccd=data_ccd, flat=combined_flat, add_keyword={\"HISTORY\": f\"Divided master flat {PATH_TO_FLAT.name}\"})\n",
    "    data_ccd = cosmicray_lacosmic(ccd=data_ccd, sigclip=8, gain=1.42, readnoise=14.1)\n",
    "    new_mask = data_ccd.mask | mask\n",
    "    data_ccd.multiply(~new_mask)\n",
    "    data_ccd.header[\"HISTORY\"] = f\"Removed cosmic rays with LACosmic\"\n",
    "    data_ccd.write(output_file, output_verify=\"ignore\")\n"
   ]
  }
 ],
 "metadata": {
  "interpreter": {
   "hash": "5ee390c732bbe3cddb98665d89892b2473c88eaa91dc183b6cfe090be423745e"
  },
  "kernelspec": {
   "display_name": "Python 3.9.5 ('install')",
   "language": "python",
   "name": "python3"
  },
  "language_info": {
   "codemirror_mode": {
    "name": "ipython",
    "version": 3
   },
   "file_extension": ".py",
   "mimetype": "text/x-python",
   "name": "python",
   "nbconvert_exporter": "python",
   "pygments_lexer": "ipython3",
   "version": "3.9.5"
  },
  "orig_nbformat": 4
 },
 "nbformat": 4,
 "nbformat_minor": 2
}
