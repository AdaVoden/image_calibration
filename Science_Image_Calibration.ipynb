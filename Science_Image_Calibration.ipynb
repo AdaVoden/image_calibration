{
 "cells": [
  {
   "cell_type": "markdown",
   "source": [
    "#  Science Image Calibration notebook\r\n",
    "\r\n",
    "This notebook calibrates science images by removing bias, dark and dividing out flats.\r\n",
    "\r\n",
    "Made by: Harlan Shaw <harlan.shaw@ucalgary.ca>\r\n",
    "\r\n",
    "## Required Python packages:\r\n",
    "[Astropy](https://www.astropy.org/)\r\n",
    "\r\n",
    "[CCDProc](https://ccdproc.readthedocs.io/en/latest/index.html)\r\n",
    "\r\n",
    "[Astro-SCRAPPY](https://github.com/astropy/astroscrappy)\r\n",
    "\r\n",
    "It's recommended you download and install [Anaconda](https://www.anaconda.com/products/individual#Downloads) as this contains a Python environment and Astropy.\r\n",
    "\r\n",
    "You will need to install CCDProc using the Conda install command: `conda install -c conda-forge ccdproc`\r\n",
    "\r\n",
    "This will also install Astropy and Astro-SCRAPPY if not already installed.\r\n",
    "\r\n",
    "## Citations:\r\n",
    "With the projects used above, any use of this notebook requires the citations of the Python packages and papers from which they are derived. \r\n",
    "Their citations are located here:\r\n",
    "\r\n",
    "[Astropy](https://www.astropy.org/acknowledging.html)\r\n",
    "\r\n",
    "[CCDProc](https://ccdproc.readthedocs.io/en/latest/citation.html)\r\n",
    "\r\n",
    "[Astro-SCRAPPY](https://github.com/astropy/astroscrappy)\r\n"
   ],
   "metadata": {}
  },
  {
   "cell_type": "markdown",
   "source": [
    "## REQUIRED VARIABLES\r\n",
    "\r\n",
    "The next cell has variables that must be set for the notebook to function"
   ],
   "metadata": {}
  },
  {
   "cell_type": "code",
   "execution_count": 1,
   "source": [
    "PATH_TO_FLAT = \"reduced/BNmasterflat.fit\"\r\n",
    "PATH_TO_DARK = \"reduced/combined_dark.fit\"\r\n",
    "PATH_TO_BIAS = \"reduced/combined_bias.fit\"\r\n",
    "PATH_TO_DATA = \"I:\\\\Work\\\\Tycho\\\\2021Aug30AsteroidTestField\"\r\n"
   ],
   "outputs": [],
   "metadata": {}
  },
  {
   "cell_type": "code",
   "execution_count": 3,
   "source": [
    "from pathlib import Path\r\n",
    "from astropy.nddata import CCDData\r\n",
    "from astropy.units import adu, second\r\n",
    "from ccdproc import ImageFileCollection, subtract_bias, subtract_dark, flat_correct\r\n",
    "import numpy as np\r\n",
    "\r\n",
    "path_to_flat = Path(PATH_TO_FLAT)\r\n",
    "path_to_dark = Path(PATH_TO_DARK)\r\n",
    "path_to_bias = Path(PATH_TO_BIAS)\r\n",
    "path_to_data = Path(PATH_TO_DATA)\r\n",
    "\r\n",
    "data_files = ImageFileCollection(path_to_data, glob_include=\"*.fit*\")\r\n",
    "combined_bias = CCDData.read(path_to_bias, unit=adu)\r\n",
    "combined_dark = CCDData.read(path_to_dark, unit=adu)\r\n",
    "combined_flat = CCDData.read(path_to_flat, unit=adu)\r\n",
    "output_directory = path_to_data.joinpath(\"corrected_b_d\")\r\n",
    "output_directory.mkdir(parents=True, exist_ok=True)\r\n",
    "\r\n",
    "for file_name in data_files.files:\r\n",
    "    file_name_stem = Path(file_name).stem\r\n",
    "    full_path = path_to_data.joinpath(file_name)\r\n",
    "    new_filename = full_path.with_stem(file_name_stem + \"_b_d\")\r\n",
    "    output_file = output_directory.joinpath(new_filename.name)\r\n",
    "    data_ccd = CCDData.read(full_path, unit=adu)\r\n",
    "    data_ccd = subtract_bias(data_ccd, combined_bias)\r\n",
    "    data_ccd = subtract_dark(ccd=data_ccd, master=combined_dark, exposure_time=\"EXPTIME\", exposure_unit=second, scale=False)\r\n",
    "    # data_ccd = flat_correct(ccd=data_ccd, flat=combined_flat)\r\n",
    "    data_ccd.meta[\"HISTORY\"] = f\"Subtracted master bias {path_to_bias.name}\"\r\n",
    "    data_ccd.meta[\"HISTORY\"] = f\"Subtracted master dark {path_to_dark.name}\"\r\n",
    "    # data_ccd.meta[\"HISTORY\"] = f\"Divided master flat {path_to_flat.name}\"\r\n",
    "    data_ccd.write(output_file)\r\n"
   ],
   "outputs": [
    {
     "output_type": "stream",
     "name": "stderr",
     "text": [
      "INFO:astropy:using the unit adu passed to the FITS reader instead of the unit adu in the FITS file.\n",
      "WARNING: FITSFixedWarning: 'datfix' made the change 'Set MJD-OBS to 59451.253692 from DATE-OBS'. [astropy.wcs.wcs]\n",
      "WARNING:astropy:FITSFixedWarning: 'datfix' made the change 'Set MJD-OBS to 59451.253692 from DATE-OBS'.\n",
      "INFO:astropy:using the unit adu passed to the FITS reader instead of the unit adu in the FITS file.\n"
     ]
    },
    {
     "output_type": "stream",
     "name": "stdout",
     "text": [
      "INFO: using the unit adu passed to the FITS reader instead of the unit adu in the FITS file. [astropy.nddata.ccddata]\n",
      "INFO: using the unit adu passed to the FITS reader instead of the unit adu in the FITS file. [astropy.nddata.ccddata]\n"
     ]
    },
    {
     "output_type": "stream",
     "name": "stderr",
     "text": [
      "WARNING: FITSFixedWarning: 'datfix' made the change 'Set MJD-OBS to 59437.405197 from DATE-OBS'. [astropy.wcs.wcs]\n",
      "WARNING:astropy:FITSFixedWarning: 'datfix' made the change 'Set MJD-OBS to 59437.405197 from DATE-OBS'.\n",
      "WARNING: FITSFixedWarning: 'datfix' made the change 'Set MJD-OBS to 58665.196296 from DATE-OBS'. [astropy.wcs.wcs]\n",
      "WARNING:astropy:FITSFixedWarning: 'datfix' made the change 'Set MJD-OBS to 58665.196296 from DATE-OBS'.\n",
      "WARNING: FITSFixedWarning: 'datfix' made the change 'Set MJD-OBS to 59456.276308 from DATE-OBS'. [astropy.wcs.wcs]\n",
      "WARNING:astropy:FITSFixedWarning: 'datfix' made the change 'Set MJD-OBS to 59456.276308 from DATE-OBS'.\n",
      "WARNING: FITSFixedWarning: 'datfix' made the change 'Set MJD-OBS to 59456.277431 from DATE-OBS'. [astropy.wcs.wcs]\n",
      "WARNING:astropy:FITSFixedWarning: 'datfix' made the change 'Set MJD-OBS to 59456.277431 from DATE-OBS'.\n",
      "WARNING: FITSFixedWarning: 'datfix' made the change 'Set MJD-OBS to 59456.278553 from DATE-OBS'. [astropy.wcs.wcs]\n",
      "WARNING:astropy:FITSFixedWarning: 'datfix' made the change 'Set MJD-OBS to 59456.278553 from DATE-OBS'.\n",
      "WARNING: FITSFixedWarning: 'datfix' made the change 'Set MJD-OBS to 59456.279687 from DATE-OBS'. [astropy.wcs.wcs]\n",
      "WARNING:astropy:FITSFixedWarning: 'datfix' made the change 'Set MJD-OBS to 59456.279687 from DATE-OBS'.\n",
      "WARNING: FITSFixedWarning: 'datfix' made the change 'Set MJD-OBS to 59456.280833 from DATE-OBS'. [astropy.wcs.wcs]\n",
      "WARNING:astropy:FITSFixedWarning: 'datfix' made the change 'Set MJD-OBS to 59456.280833 from DATE-OBS'.\n",
      "WARNING: FITSFixedWarning: 'datfix' made the change 'Set MJD-OBS to 59456.281968 from DATE-OBS'. [astropy.wcs.wcs]\n",
      "WARNING:astropy:FITSFixedWarning: 'datfix' made the change 'Set MJD-OBS to 59456.281968 from DATE-OBS'.\n",
      "WARNING: FITSFixedWarning: 'datfix' made the change 'Set MJD-OBS to 59456.283125 from DATE-OBS'. [astropy.wcs.wcs]\n",
      "WARNING:astropy:FITSFixedWarning: 'datfix' made the change 'Set MJD-OBS to 59456.283125 from DATE-OBS'.\n",
      "WARNING: FITSFixedWarning: 'datfix' made the change 'Set MJD-OBS to 59456.284271 from DATE-OBS'. [astropy.wcs.wcs]\n",
      "WARNING:astropy:FITSFixedWarning: 'datfix' made the change 'Set MJD-OBS to 59456.284271 from DATE-OBS'.\n",
      "WARNING: FITSFixedWarning: 'datfix' made the change 'Set MJD-OBS to 59456.285417 from DATE-OBS'. [astropy.wcs.wcs]\n",
      "WARNING:astropy:FITSFixedWarning: 'datfix' made the change 'Set MJD-OBS to 59456.285417 from DATE-OBS'.\n",
      "WARNING: FITSFixedWarning: 'datfix' made the change 'Set MJD-OBS to 59456.286539 from DATE-OBS'. [astropy.wcs.wcs]\n",
      "WARNING:astropy:FITSFixedWarning: 'datfix' made the change 'Set MJD-OBS to 59456.286539 from DATE-OBS'.\n",
      "WARNING: FITSFixedWarning: 'datfix' made the change 'Set MJD-OBS to 59456.287674 from DATE-OBS'. [astropy.wcs.wcs]\n",
      "WARNING:astropy:FITSFixedWarning: 'datfix' made the change 'Set MJD-OBS to 59456.287674 from DATE-OBS'.\n",
      "WARNING: FITSFixedWarning: 'datfix' made the change 'Set MJD-OBS to 59456.288808 from DATE-OBS'. [astropy.wcs.wcs]\n",
      "WARNING:astropy:FITSFixedWarning: 'datfix' made the change 'Set MJD-OBS to 59456.288808 from DATE-OBS'.\n",
      "WARNING: FITSFixedWarning: 'datfix' made the change 'Set MJD-OBS to 59456.289942 from DATE-OBS'. [astropy.wcs.wcs]\n",
      "WARNING:astropy:FITSFixedWarning: 'datfix' made the change 'Set MJD-OBS to 59456.289942 from DATE-OBS'.\n",
      "WARNING: FITSFixedWarning: 'datfix' made the change 'Set MJD-OBS to 59456.291065 from DATE-OBS'. [astropy.wcs.wcs]\n",
      "WARNING:astropy:FITSFixedWarning: 'datfix' made the change 'Set MJD-OBS to 59456.291065 from DATE-OBS'.\n",
      "WARNING: FITSFixedWarning: 'datfix' made the change 'Set MJD-OBS to 59456.298333 from DATE-OBS'. [astropy.wcs.wcs]\n",
      "WARNING:astropy:FITSFixedWarning: 'datfix' made the change 'Set MJD-OBS to 59456.298333 from DATE-OBS'.\n",
      "WARNING: FITSFixedWarning: 'datfix' made the change 'Set MJD-OBS to 59456.299155 from DATE-OBS'. [astropy.wcs.wcs]\n",
      "WARNING:astropy:FITSFixedWarning: 'datfix' made the change 'Set MJD-OBS to 59456.299155 from DATE-OBS'.\n",
      "WARNING: FITSFixedWarning: 'datfix' made the change 'Set MJD-OBS to 59456.299965 from DATE-OBS'. [astropy.wcs.wcs]\n",
      "WARNING:astropy:FITSFixedWarning: 'datfix' made the change 'Set MJD-OBS to 59456.299965 from DATE-OBS'.\n",
      "WARNING: FITSFixedWarning: 'datfix' made the change 'Set MJD-OBS to 59456.300775 from DATE-OBS'. [astropy.wcs.wcs]\n",
      "WARNING:astropy:FITSFixedWarning: 'datfix' made the change 'Set MJD-OBS to 59456.300775 from DATE-OBS'.\n",
      "WARNING: FITSFixedWarning: 'datfix' made the change 'Set MJD-OBS to 59456.301586 from DATE-OBS'. [astropy.wcs.wcs]\n",
      "WARNING:astropy:FITSFixedWarning: 'datfix' made the change 'Set MJD-OBS to 59456.301586 from DATE-OBS'.\n",
      "WARNING: FITSFixedWarning: 'datfix' made the change 'Set MJD-OBS to 59456.302384 from DATE-OBS'. [astropy.wcs.wcs]\n",
      "WARNING:astropy:FITSFixedWarning: 'datfix' made the change 'Set MJD-OBS to 59456.302384 from DATE-OBS'.\n",
      "WARNING: FITSFixedWarning: 'datfix' made the change 'Set MJD-OBS to 59456.303194 from DATE-OBS'. [astropy.wcs.wcs]\n",
      "WARNING:astropy:FITSFixedWarning: 'datfix' made the change 'Set MJD-OBS to 59456.303194 from DATE-OBS'.\n",
      "WARNING: FITSFixedWarning: 'datfix' made the change 'Set MJD-OBS to 59456.304005 from DATE-OBS'. [astropy.wcs.wcs]\n",
      "WARNING:astropy:FITSFixedWarning: 'datfix' made the change 'Set MJD-OBS to 59456.304005 from DATE-OBS'.\n",
      "WARNING: FITSFixedWarning: 'datfix' made the change 'Set MJD-OBS to 59456.304815 from DATE-OBS'. [astropy.wcs.wcs]\n",
      "WARNING:astropy:FITSFixedWarning: 'datfix' made the change 'Set MJD-OBS to 59456.304815 from DATE-OBS'.\n",
      "WARNING: FITSFixedWarning: 'datfix' made the change 'Set MJD-OBS to 59456.305625 from DATE-OBS'. [astropy.wcs.wcs]\n",
      "WARNING:astropy:FITSFixedWarning: 'datfix' made the change 'Set MJD-OBS to 59456.305625 from DATE-OBS'.\n",
      "WARNING: FITSFixedWarning: 'datfix' made the change 'Set MJD-OBS to 59456.306435 from DATE-OBS'. [astropy.wcs.wcs]\n",
      "WARNING:astropy:FITSFixedWarning: 'datfix' made the change 'Set MJD-OBS to 59456.306435 from DATE-OBS'.\n",
      "WARNING: FITSFixedWarning: 'datfix' made the change 'Set MJD-OBS to 59456.307245 from DATE-OBS'. [astropy.wcs.wcs]\n",
      "WARNING:astropy:FITSFixedWarning: 'datfix' made the change 'Set MJD-OBS to 59456.307245 from DATE-OBS'.\n",
      "WARNING: FITSFixedWarning: 'datfix' made the change 'Set MJD-OBS to 59456.308044 from DATE-OBS'. [astropy.wcs.wcs]\n",
      "WARNING:astropy:FITSFixedWarning: 'datfix' made the change 'Set MJD-OBS to 59456.308044 from DATE-OBS'.\n",
      "WARNING: FITSFixedWarning: 'datfix' made the change 'Set MJD-OBS to 59456.308854 from DATE-OBS'. [astropy.wcs.wcs]\n",
      "WARNING:astropy:FITSFixedWarning: 'datfix' made the change 'Set MJD-OBS to 59456.308854 from DATE-OBS'.\n",
      "WARNING: FITSFixedWarning: 'datfix' made the change 'Set MJD-OBS to 59456.309653 from DATE-OBS'. [astropy.wcs.wcs]\n",
      "WARNING:astropy:FITSFixedWarning: 'datfix' made the change 'Set MJD-OBS to 59456.309653 from DATE-OBS'.\n"
     ]
    }
   ],
   "metadata": {}
  }
 ],
 "metadata": {
  "orig_nbformat": 4,
  "language_info": {
   "name": "python",
   "version": "3.9.5",
   "mimetype": "text/x-python",
   "codemirror_mode": {
    "name": "ipython",
    "version": 3
   },
   "pygments_lexer": "ipython3",
   "nbconvert_exporter": "python",
   "file_extension": ".py"
  },
  "kernelspec": {
   "name": "python3",
   "display_name": "Python 3.9.5 64-bit ('install': conda)"
  },
  "interpreter": {
   "hash": "5fb7a811fb9cdc6c6242057950944a92d21f92a2f41c32c32d80e1a312d91f1d"
  }
 },
 "nbformat": 4,
 "nbformat_minor": 2
}