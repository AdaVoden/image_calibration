{
 "cells": [
  {
   "cell_type": "markdown",
   "metadata": {},
   "source": [
    "\n",
    "#  Fits organizer notebook\n",
    "\n",
    "This notebook organizes Fits files into folders for their respective binnings, CCD-temperatures and exposure times.\n",
    "\n",
    "For example, if a fits image in your target folder has a binning of x=1, y=1, a CCD-temperature of 15C and an exposure time of 60s\n",
    "\n",
    "it will be output into the folder \"1x1\\15C\\60s\"\n",
    "\n",
    "Made by: Harlan Shaw <harlan.shaw@ucalgary.ca>"
   ]
  },
  {
   "cell_type": "markdown",
   "metadata": {},
   "source": [
    "\n",
    "## REQUIRED ITEMS\n",
    "\n",
    "In the next code cell, enter in the target directory"
   ]
  },
  {
   "cell_type": "code",
   "execution_count": null,
   "metadata": {},
   "outputs": [],
   "source": [
    "# Directory containing Fits files\n",
    "SOURCE_DIR = Path(\"I:\\\\Work\\\\BN Data\\\\Skynet\")"
   ]
  },
  {
   "cell_type": "markdown",
   "metadata": {},
   "source": [
    "\n",
    "### Find all *.fit or *.fits files in target dir and copy them into the target folder based on their headers"
   ]
  },
  {
   "cell_type": "code",
   "execution_count": null,
   "metadata": {},
   "outputs": [],
   "source": [
    "from pathlib import Path\n",
    "from astropy.io import fits\n",
    "import shutil\n",
    "\n",
    "for file in SOURCE_DIR.iterdir():\n",
    "    if file.suffix == \".fit\" or file.suffix == \".fits\":\n",
    "        with fits.open(name=file, do_not_scale_image_data = True) as hdul:\n",
    "            # Get headers\n",
    "            headers = hdul[0].header\n",
    "            \n",
    "            # Extract information on possible variables\n",
    "            exposure_time = headers[\"EXPTIME\"]\n",
    "            xbin = headers[\"XBINNING\"]\n",
    "            ybin = headers[\"YBINNING\"]\n",
    "            ccd_temp = round(headers[\"CCD-TEMP\"])\n",
    "            bin_string = f\"{xbin}x{ybin}\"\n",
    "            \n",
    "            # Set up new path based on binning, temperature and exposure time in that order\n",
    "            output_folders = f\"{bin_string}\\\\{int(ccd_temp)}C\\\\{int(exposure_time)}s\"\n",
    "            out_path = SOURCE_DIR.joinpath(output_folders)\n",
    "            # Make sure output folder exists\n",
    "            out_path.mkdir(exist_ok=True, parents=True)\n",
    "            out_file = out_path.joinpath(file.name)\n",
    "            \n",
    "            # Copy (not Move)\n",
    "            print(f\"Copying {file.name} to {out_file}\")\n",
    "            shutil.copy(file, out_file)"
   ]
  }
 ],
 "metadata": {
  "interpreter": {
   "hash": "5fb7a811fb9cdc6c6242057950944a92d21f92a2f41c32c32d80e1a312d91f1d"
  },
  "kernelspec": {
   "display_name": "Python 3.9.5 64-bit ('install': conda)",
   "name": "python3"
  },
  "language_info": {
   "codemirror_mode": {
    "name": "ipython",
    "version": 3
   },
   "file_extension": ".py",
   "mimetype": "text/x-python",
   "name": "python",
   "nbconvert_exporter": "python",
   "pygments_lexer": "ipython3",
   "version": "3.9.5"
  },
  "orig_nbformat": 4
 },
 "nbformat": 4,
 "nbformat_minor": 2
}
