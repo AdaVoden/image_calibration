{
 "cells": [
  {
   "cell_type": "markdown",
   "metadata": {},
   "source": [
    "#  RGB Image Colourizer notebook\n",
    "\n",
    "This notebook takes three images and combines them into a single high-quality colourized astronomical image via the [Lupton Algorithm](https://docs.astropy.org/en/stable/visualization/rgb.html#creating-color-rgb-images-using-the-lupton-et-al-2004-scheme)\n",
    "\n",
    "Made by: Harlan Shaw <harlan.shaw@ucalgary.ca>\n",
    "\n",
    "## Required Python packages:\n",
    "[Astropy](https://www.astropy.org/)\n",
    "\n",
    "It's recommended you download and install [Anaconda](https://www.anaconda.com/products/individual#Downloads) as this contains a Python environment and Astropy.\n",
    "\n",
    "## Citations:\n",
    "This project uses:\n",
    "\n",
    "[Astropy](https://www.astropy.org/acknowledging.html)\n"
   ]
  },
  {
   "cell_type": "markdown",
   "metadata": {},
   "source": [
    "## Required Variables\n",
    "\n",
    "The next cell has variables that must be set for the notebook to function"
   ]
  },
  {
   "cell_type": "code",
   "execution_count": null,
   "metadata": {},
   "outputs": [],
   "source": [
    "import matplotlib.pyplot as plt\n",
    "from astropy.visualization import make_lupton_rgb, ImageNormalize, PowerStretch, AsinhStretch, BaseStretch, SqrtStretch, SinhStretch\n",
    "from pathlib import Path\n",
    "\n",
    "OUTPUT_FILENAME = \"Crab_Colourized_Lupton.png\"\n",
    "DATA_DIRECTORY = Path(\".\") # Directory holding the images to colourize\n",
    "\n",
    "R_file = DATA_DIRECTORY / \"M1R_r30h_Median_r1_r2_c.tif\"\n",
    "G_file = DATA_DIRECTORY / \"M1B_i30h_Median_r1_r2_c.tif\"\n",
    "B_file = DATA_DIRECTORY / \"M1V_g30h_Median_r1_r2_c.tif\"\n"
   ]
  },
  {
   "cell_type": "markdown",
   "metadata": {},
   "source": [
    "## Colourization\n",
    "\n",
    "The next cell performs the colourization and saving, currently reads in any normal image file and colourizes the output .png\n",
    "There are many options for the stretch in [Astropy's Visualization module](https://docs.astropy.org/en/stable/visualization/index.html), however PowerStretch seems to work quite well.\n"
   ]
  },
  {
   "cell_type": "code",
   "execution_count": null,
   "metadata": {},
   "outputs": [],
   "source": [
    "\n",
    "stretch = PowerStretch(2.25) # Replace with None if no pre-normalization required\n",
    "\n",
    "def read_and_normalize(path: Path, stretch: BaseStretch = None):\n",
    "    img = plt.imread(path).astype(\"float32\")\n",
    "    if stretch is not None:\n",
    "        # Normalize image by applying stretch to it\n",
    "        normalizer = ImageNormalize(img, stretch=stretch)\n",
    "        return normalizer(img)\n",
    "    return img\n",
    "    \n",
    "R = read_and_normalize(R_file, stretch)\n",
    "G = read_and_normalize(G_file, stretch)\n",
    "B = read_and_normalize(B_file, stretch)\n",
    "\n",
    "rgb = make_lupton_rgb(R, G, B, stretch=0.85, Q=0.85, filename=OUTPUT_FILENAME)\n",
    "\n",
    "plt.figure(figsize=(10,10))\n",
    "plt.imshow(rgb, origin=\"lower\")"
   ]
  }
 ],
 "metadata": {
  "kernelspec": {
   "display_name": "Python 3.9.5 ('install')",
   "language": "python",
   "name": "python3"
  },
  "language_info": {
   "codemirror_mode": {
    "name": "ipython",
    "version": 3
   },
   "file_extension": ".py",
   "mimetype": "text/x-python",
   "name": "python",
   "nbconvert_exporter": "python",
   "pygments_lexer": "ipython3",
   "version": "3.9.5"
  },
  "orig_nbformat": 4,
  "vscode": {
   "interpreter": {
    "hash": "5ee390c732bbe3cddb98665d89892b2473c88eaa91dc183b6cfe090be423745e"
   }
  }
 },
 "nbformat": 4,
 "nbformat_minor": 2
}
