{
 "cells": [
  {
   "cell_type": "markdown",
   "metadata": {},
   "source": [
    "\n",
    "# Minimum number of Dark Exposures calculator\n",
    "\n",
    "This notebook takes the read noise and known dark current and exposure time and calculate the minimum number of dark exposures\n",
    "necessary to be able to see the dark current in most of the pixels."
   ]
  },
  {
   "cell_type": "markdown",
   "metadata": {},
   "source": [
    "## Required Variables\n",
    "The following variables must be set"
   ]
  },
  {
   "cell_type": "code",
   "execution_count": 4,
   "metadata": {},
   "outputs": [],
   "source": [
    "READ_NOISE = 12 # electrons\n",
    "DARK_CURRENT = 0.05 # electrons per second per pixel\n",
    "EXPOSURE_TIME = 60 # seconds\n",
    "TIME_BETWEEN_EXPOSURES = 8 # seconds"
   ]
  },
  {
   "cell_type": "markdown",
   "metadata": {},
   "source": [
    "### Calculate the minimum number of dark exposures"
   ]
  },
  {
   "cell_type": "code",
   "execution_count": 5,
   "metadata": {},
   "outputs": [
    {
     "name": "stdout",
     "output_type": "stream",
     "text": [
      "The minimum number of images to have more dark current than read noise with an exposure time of 60 seconds is: \n",
      "16 exposures\n",
      "Which would take a minimum of 0.30 hours to gather\n"
     ]
    },
    {
     "data": {
      "image/png": "[encoded data removed]",
      "text/plain": [
       "<Figure size 432x288 with 1 Axes>"
      ]
     },
     "metadata": {
      "needs_background": "light"
     },
     "output_type": "display_data"
    }
   ],
   "source": [
    "import matplotlib.pyplot as plt\n",
    "import numpy as np\n",
    "\n",
    "dark_current_per_pixel = DARK_CURRENT * EXPOSURE_TIME\n",
    "minimum_number_of_images = (READ_NOISE/dark_current_per_pixel)**2\n",
    "total_exposure_time = minimum_number_of_images * (EXPOSURE_TIME + TIME_BETWEEN_EXPOSURES)\n",
    "print(f\"The minimum number of images to have more dark current than read noise with an exposure time of {EXPOSURE_TIME} seconds is: \")\n",
    "print(f\"{round(minimum_number_of_images)} exposures\")\n",
    "print(f\"Which would take a minimum of {total_exposure_time/3600:.2f} hours to gather\")\n",
    "\n",
    "# Make plot to visualize requirements\n",
    "number_of_images = np.arange(1, 800)\n",
    "\n",
    "modified_read_noise = READ_NOISE/np.sqrt(number_of_images)\n",
    "# Make a line the same length as the readnoise line\n",
    "dark_current_array = np.full(modified_read_noise.shape, dark_current_per_pixel)\n",
    "\n",
    "plt.plot(number_of_images, modified_read_noise, label=\"Read noise decreasing as function of images\")\n",
    "plt.plot(number_of_images, dark_current_array, label=\"Dark current\")\n",
    "plt.legend()\n",
    "plt.show()"
   ]
  }
 ],
 "metadata": {
  "interpreter": {
   "hash": "5ee390c732bbe3cddb98665d89892b2473c88eaa91dc183b6cfe090be423745e"
  },
  "kernelspec": {
   "display_name": "Python 3.9.5 ('install')",
   "language": "python",
   "name": "python3"
  },
  "language_info": {
   "codemirror_mode": {
    "name": "ipython",
    "version": 3
   },
   "file_extension": ".py",
   "mimetype": "text/x-python",
   "name": "python",
   "nbconvert_exporter": "python",
   "pygments_lexer": "ipython3",
   "version": "3.9.5"
  },
  "orig_nbformat": 4
 },
 "nbformat": 4,
 "nbformat_minor": 2
}
