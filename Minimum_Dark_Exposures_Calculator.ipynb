{
 "cells": [
  {
   "cell_type": "markdown",
   "source": [
    "\r\n",
    "# Minimum number of Dark Exposures calculator\r\n",
    "\r\n",
    "This notebook takes the read noise and known dark current and exposure time and calculate the minimum number of dark exposures\r\n",
    "necessary to be able to see the dark current."
   ],
   "metadata": {}
  },
  {
   "cell_type": "markdown",
   "source": [
    "## Required Fields\r\n",
    "The following variables must be set"
   ],
   "metadata": {}
  },
  {
   "cell_type": "code",
   "execution_count": 1,
   "source": [
    "READ_NOISE = 15 # electrons\r\n",
    "DARK_CURRENT = 0.01 # electrons per second per pixel\r\n",
    "EXPOSURE_TIME = 80 # seconds\r\n",
    "TIME_BETWEEN_EXPOSURES = 30 # seconds"
   ],
   "outputs": [],
   "metadata": {}
  },
  {
   "cell_type": "markdown",
   "source": [
    "### Calculate the minimum number of dark exposures"
   ],
   "metadata": {}
  },
  {
   "cell_type": "code",
   "execution_count": 2,
   "source": [
    "import matplotlib.pyplot as plt\r\n",
    "import numpy as np\r\n",
    "\r\n",
    "dark_current_per_pixel = DARK_CURRENT * EXPOSURE_TIME\r\n",
    "minimum_number_of_images = (READ_NOISE/dark_current_per_pixel)**2\r\n",
    "total_exposure_time = minimum_number_of_images * (EXPOSURE_TIME + TIME_BETWEEN_EXPOSURES)\r\n",
    "print(f\"The minimum number of images to have more dark current than read noise with an exposure time of {EXPOSURE_TIME} seconds is: \")\r\n",
    "print(f\"{round(minimum_number_of_images)} exposures\")\r\n",
    "print(f\"Which would take a minimum of {total_exposure_time/3600} hours to gather\")\r\n",
    "\r\n",
    "number_of_images = np.arange(1, 800)\r\n",
    "\r\n",
    "modified_read_noise = READ_NOISE/np.sqrt(number_of_images)\r\n",
    "dark_current_array = np.full(modified_read_noise.shape, dark_current_per_pixel)\r\n",
    "\r\n",
    "plt.plot(number_of_images, modified_read_noise, label=\"Read noise decreasing as function of images\")\r\n",
    "plt.plot(number_of_images, dark_current_array, label=\"Dark current\")\r\n",
    "plt.legend()\r\n",
    "plt.show()"
   ],
   "outputs": [
    {
     "output_type": "stream",
     "name": "stdout",
     "text": [
      "The minimum number of images to have more dark current than read noise with an exposure time of 80 seconds is: \n",
      "352 exposures\n",
      "Which would take a minimum of 10.7421875 hours to gather\n"
     ]
    },
    {
     "output_type": "display_data",
     "data": {
      "image/png": "[encoded data removed]",
      "text/plain": [
       "<Figure size 432x288 with 1 Axes>"
      ]
     },
     "metadata": {
      "needs_background": "light"
     }
    }
   ],
   "metadata": {}
  }
 ],
 "metadata": {
  "orig_nbformat": 4,
  "language_info": {
   "name": "python",
   "version": "3.9.5",
   "mimetype": "text/x-python",
   "codemirror_mode": {
    "name": "ipython",
    "version": 3
   },
   "pygments_lexer": "ipython3",
   "nbconvert_exporter": "python",
   "file_extension": ".py"
  },
  "kernelspec": {
   "name": "python3",
   "display_name": "Python 3.9.5 64-bit ('install': conda)"
  },
  "interpreter": {
   "hash": "5fb7a811fb9cdc6c6242057950944a92d21f92a2f41c32c32d80e1a312d91f1d"
  }
 },
 "nbformat": 4,
 "nbformat_minor": 2
}