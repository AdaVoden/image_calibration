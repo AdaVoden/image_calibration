{
 "cells": [
  {
   "cell_type": "markdown",
   "metadata": {},
   "source": [
    "#  Calibration Image Master Creation notebook\n",
    "\n",
    "This notebook calibrates Bias images, Dark images and Flat images and combines them into their respective Master files\n",
    "\n",
    "Made by: Harlan Shaw <harlan.shaw@ucalgary.ca>\n",
    "\n",
    "## Required Python packages:\n",
    "[Astropy](https://www.astropy.org/)\n",
    "\n",
    "[CCDProc](https://ccdproc.readthedocs.io/en/latest/index.html)\n",
    "\n",
    "[Astro-SCRAPPY](https://github.com/astropy/astroscrappy)\n",
    "\n",
    "It's recommended you download and install [Anaconda](https://www.anaconda.com/products/individual#Downloads) as this contains a Python environment and Astropy.\n",
    "\n",
    "You will need to install CCDProc using the Conda install command: `conda install -c conda-forge ccdproc`\n",
    "\n",
    "This will also install Astropy and Astro-SCRAPPY if not already installed.\n",
    "\n",
    "## Citations:\n",
    "This project uses:\n",
    "\n",
    "[Astropy](https://www.astropy.org/acknowledging.html)\n",
    "\n",
    "[CCDProc](https://ccdproc.readthedocs.io/en/latest/citation.html)\n",
    "\n",
    "[Astro-SCRAPPY](https://github.com/astropy/astroscrappy)\n"
   ]
  },
  {
   "cell_type": "markdown",
   "metadata": {},
   "source": [
    "\n",
    "## How to Use\n",
    "\n",
    "It's recommended you click \"Run All Cells\" to run this notebook, but you may optionally run each cell individually.\n",
    "\n",
    "This notebook requires the location of your raw bias images as either a full location or as a relative path if you have the bias images in the folder that this notebook is located in.\n",
    "\n",
    "Example:\n",
    "\n",
    "Full location: C:\\path\\to\\bias\n",
    "\n",
    "Relative: path\\to\\bias\n"
   ]
  },
  {
   "cell_type": "markdown",
   "metadata": {},
   "source": [
    "\n",
    "# Setup\n",
    "\n",
    "All variables are set up in this cell. If this cell is not run, the program will not run."
   ]
  },
  {
   "cell_type": "code",
   "execution_count": null,
   "metadata": {},
   "outputs": [],
   "source": [
    "from pathlib import Path\n",
    "from astropy.nddata import CCDData\n",
    "from astropy.stats import mad_std\n",
    "from astropy.units import adu, second\n",
    "from astropy.wcs import FITSFixedWarning\n",
    "from ccdproc import ImageFileCollection, combine, subtract_bias, subtract_dark\n",
    "import matplotlib.pyplot as plt\n",
    "import numpy as np\n",
    "import logging\n",
    "import warnings\n",
    "\n",
    "warnings.filterwarnings(\"ignore\", category=FITSFixedWarning)\n",
    "\n",
    "\n",
    "GIGABYTE = 1e9 # 1 billion bytes\n",
    "MEMORY_LIMIT = 32*GIGABYTE\n",
    "\n",
    "data_directory = Path(\".\") # directory that notebooks are in.\n",
    "DARKS_PATH = data_directory / \"Darks_20C\"\n",
    "BIAS_PATH = data_directory / \"Bias\"\n",
    "FLATS_PATH = data_directory / \"flats_12c\"\n",
    "REDUCED_PATH = data_directory / \"reduced\"\n",
    "# make sure reduced path exists\n",
    "REDUCED_PATH.mkdir(exist_ok=True)\n",
    "\n",
    "combined_bias_path = REDUCED_PATH / \"combined_bias_5C_mean.fit\"\n",
    "combined_dark_path = REDUCED_PATH / \"combined_dark_12c_20s_mean.fit\"\n",
    "\n",
    "#useful functions\n",
    "def inv_average(data):\n",
    "    return 1/np.average(data)\n",
    "\n",
    "def inv_median(data):\n",
    "    return 1/np.median(data)\n",
    "\n",
    "def files_as_paths(directory_path):\n",
    "    fits_images = ImageFileCollection(directory_path, glob_include=\"*.fit*\")\n",
    "    return list(map(lambda x: directory_path / x, fits_images.files))\n",
    "\n",
    "def write_fits(fits_file, file_path):\n",
    "        # convert to HDU so we can scale to 16 bit\n",
    "        fits_file = fits_file.to_hdu(hdu_uncertainty=None)\n",
    "        \n",
    "        fits_file[0].scale(\"float32\") \n",
    "        fits_file[0].writeto(file_path)"
   ]
  },
  {
   "cell_type": "markdown",
   "metadata": {},
   "source": [
    "\n",
    "# Stage 1: Bias\n",
    "\n",
    "During this stage the master Bias is made, it is integral to the rest of the process and must be done first."
   ]
  },
  {
   "cell_type": "code",
   "execution_count": null,
   "metadata": {},
   "outputs": [],
   "source": [
    "biases = files_as_paths(BIAS_PATH)\n",
    "\n",
    "combined_bias = combine(biases, \n",
    "                        method=\"average\", \n",
    "                        mem_limit = MEMORY_LIMIT,\n",
    "                        sigma_clip=True,\n",
    "                        sigma_clip_low_thresh=5,\n",
    "                        sigma_clip_high_thresh=5,\n",
    "                        sigma_clip_func=np.median,\n",
    "                        sigma_clip_dev_func=mad_std,\n",
    "                        unit=adu)\n",
    "# Annotate header with modification information\n",
    "temp = round(combined_bias.header[\"CCD-TEMP\"])\n",
    "combined_bias.meta[\"IMAGETYP\"] = \"Bias\"\n",
    "combined_bias.meta['HISTORY'] = f\"Combined {len(biases)} images by mean\"\n",
    "\n",
    "combined_bias_name = REDUCED_PATH / f\"combined_bias_{temp}C_mean.fit\"\n",
    "\n",
    "write_fits(combined_bias, combined_bias_name)"
   ]
  },
  {
   "cell_type": "markdown",
   "metadata": {},
   "source": [
    "\n",
    "# Stage 2: Dark\n",
    "\n",
    "Here the master Dark is made. This process requires the use of the master Bias, so Stage 1 must be run first"
   ]
  },
  {
   "cell_type": "code",
   "execution_count": null,
   "metadata": {},
   "outputs": [],
   "source": [
    "# combined bias is reloaded to make running all notebook cells in order is unnecessary\n",
    "combined_bias_path = REDUCED_PATH / \"combined_bias_15C_mean.fit\"\n",
    "combined_bias = CCDData.read(combined_bias_path, unit=adu)\n",
    "darks = files_as_paths(DARKS_PATH)\n",
    "\n",
    "combined_dark = combine(darks, \n",
    "                        method=\"average\", \n",
    "                        mem_limit = MEMORY_LIMIT,\n",
    "                        sigma_clip=True,\n",
    "                        sigma_clip_low_thresh=5,\n",
    "                        sigma_clip_high_thresh=5,\n",
    "                        sigma_clip_func=np.median,\n",
    "                        sigma_clip_dev_func=mad_std,\n",
    "                        unit=adu)\n",
    "\n",
    "combined_dark = subtract_bias(ccd=combined_dark, \n",
    "                        master=combined_bias, \n",
    "                        add_keyword={\"HISTORY\": f\"Subtracted master bias {combined_bias_path.name}\"})\n",
    "combined_dark.data = np.around(combined_dark.data)\n",
    "# Get temperature to add to name\n",
    "temp = round(combined_dark.header[\"CCD-TEMP\"])\n",
    "exp_time = round(combined_dark.header[\"EXPTIME\"])\n",
    "\n",
    "# annotate header with important information\n",
    "combined_dark.meta[\"IMAGETYP\"] = \"Dark\"\n",
    "combined_dark.meta['combined'] = True\n",
    "combined_dark.meta['HISTORY'] = f\"Combined {len(darks)} images by mean\"\n",
    "# Create new output path\n",
    "combined_dark_name = REDUCED_PATH / f\"combined_dark_{temp}C_{exp_time}s_mean.fit\"\n",
    "\n",
    "write_fits(combined_dark, combined_dark_name)"
   ]
  },
  {
   "cell_type": "markdown",
   "metadata": {},
   "source": [
    "\n",
    "# Stage 3: Flat\n",
    "\n",
    "Here the master Flat is made. This process requires the use of the master Bias and master Dark, so Stage 1 and 2 must be run first"
   ]
  },
  {
   "cell_type": "code",
   "execution_count": null,
   "metadata": {},
   "outputs": [],
   "source": [
    "intermediary_path = FLATS_PATH / \"calibrated\"\n",
    "intermediary_path.mkdir(parents=True, exist_ok=True)\n",
    "\n",
    "paths = files_as_paths(FLATS_PATH)\n",
    "flat_names = [x.name for x in paths]\n",
    "# remove all already reduced flats in prep for new run\n",
    "for f in intermediary_path.iterdir():\n",
    "    if f.name in flat_names:\n",
    "        f.unlink()\n",
    "\n",
    "# combined bias and dark is reloaded to make running all notebook cells in order is unnecessary\n",
    "combined_bias = CCDData.read(combined_bias_path, unit=adu)\n",
    "combined_dark = CCDData.read(combined_dark_path, unit=adu)\n",
    "\n",
    "for flat in paths:\n",
    "    # Individually subtract bias and dark because\n",
    "    # we're scaling the flats by their inverse median\n",
    "    # and without this step the flats will be all 0\n",
    "    flat_ccd = CCDData.read(flat, unit=adu)\n",
    "    flat_ccd = subtract_bias(ccd=flat_ccd, \n",
    "                        master=combined_bias, \n",
    "                        add_keyword={\"HISTORY\": f\"Subtracted master bias {combined_bias_path.name}\"})\n",
    "    flat_ccd = subtract_dark(ccd=flat_ccd, \n",
    "                        master=combined_dark, \n",
    "                        exposure_time=\"EXPTIME\", \n",
    "                        exposure_unit=second, \n",
    "                        scale=True, # Scales exposure time to flat\n",
    "                        add_keyword={\"HISTORY\": f\"Subtracted master dark {combined_dark_path.name}\"})\n",
    "    write_fits(flat_ccd, intermediary_path / flat.name)\n",
    "    \n",
    "reduced_paths = files_as_paths(intermediary_path)\n",
    "\n",
    "combined_flat = combine(reduced_paths, \n",
    "                        method=\"median\", \n",
    "                        mem_limit = MEMORY_LIMIT,\n",
    "                        scale= inv_median,\n",
    "                        sigma_clip=True,\n",
    "                        sigma_clip_low_thresh=5,\n",
    "                        sigma_clip_high_thresh=5,\n",
    "                        sigma_clip_func=np.median,\n",
    "                        sigma_clip_dev_func=mad_std,\n",
    "                        dtype=\"float32\",\n",
    "                        unit=adu)\n",
    "\n",
    "temp = round(combined_flat.header[\"CCD-TEMP\"])\n",
    "# Annotate header with useful information\n",
    "combined_flat.meta[\"IMAGETYP\"] = \"Flat\"\n",
    "combined_flat.meta['combined'] = True\n",
    "combined_flat.meta['HISTORY'] = f\"Combined {len(paths)} images by median\"\n",
    "combined_flat_name = REDUCED_PATH / f\"combined_flat_{temp}C_median.fit\"\n",
    "\n",
    "write_fits(combined_flat, file_path=combined_flat_name)\n"
   ]
  },
  {
   "cell_type": "markdown",
   "metadata": {},
   "source": [
    "# Experimentation beyond this point\n",
    "\n",
    "You may safely ignore everything below here."
   ]
  },
  {
   "cell_type": "code",
   "execution_count": null,
   "metadata": {},
   "outputs": [],
   "source": [
    "import matplotlib.pyplot as plt\n",
    "from astropy.units import electron\n",
    "from astropy.visualization import hist\n",
    "dark1 = CCDData.read(REDUCED_PATH / \"combined_dark_5C_60s_mean.fit\", unit=adu).multiply(1.42 * electron / adu).divide(60*second)\n",
    "dark2 = CCDData.read(REDUCED_PATH / \"combined_dark_5C_90s_mean.fit\", unit=adu).multiply(1.42 * electron / adu).divide(90*second)\n",
    "\n",
    "plt.figure(figsize=(20, 10))\n",
    "\n",
    "hist(dark1.data.flatten(), bins=5000, density=False, label='60 sec 5c dark', alpha=0.4)\n",
    "hist(dark2.data.flatten(), bins=5000, density=False, label='90 sec 5c dark', alpha=0.4)\n",
    "plt.xlabel('dark current, $e^-$/sec')\n",
    "plt.ylabel('Number of pixels')\n",
    "plt.loglog()\n",
    "plt.legend();"
   ]
  },
  {
   "cell_type": "code",
   "execution_count": null,
   "metadata": {},
   "outputs": [],
   "source": [
    "hot_pixels = (dark2.data > 3)\n",
    "plt.figure(figsize=(10, 10))\n",
    "plt.plot(dark2.data[hot_pixels].flatten(), dark1.data[hot_pixels].flatten(), '.', alpha=0.2, label='Data')\n",
    "plt.xlabel(\"dark current ($e^-$/sec), 45 sec exposure time\")\n",
    "plt.ylabel(\"dark current ($e^-$/sec), 60 sec exposure time\")\n",
    "plt.xlim((1, 100))\n",
    "plt.ylim((1, 100))\n",
    "plt.plot([0, 100], [0, 100], label='Ideal relationship')\n",
    "plt.grid()\n",
    "plt.legend();"
   ]
  },
  {
   "cell_type": "code",
   "execution_count": null,
   "metadata": {},
   "outputs": [],
   "source": [
    "\n",
    "print(f\"Hot pixels in mask: {hot_pixels.sum()}\")\n",
    "print(f\"Percent of total pixels: {hot_pixels.sum()/len(dark1.data.flatten()) * 100:.2f}%\")\n",
    "\n",
    "plt.figure(figsize=(12,12), dpi=200)\n",
    "plt.imshow(hot_pixels.data, cmap='inferno')\n",
    "plt.colorbar()"
   ]
  },
  {
   "cell_type": "code",
   "execution_count": null,
   "metadata": {},
   "outputs": [],
   "source": [
    "from astropy.units import dimensionless_unscaled\n",
    "\n",
    "as_ccd = CCDData(data=hot_pixels.astype(\"uint8\"), unit=dimensionless_unscaled)\n",
    "as_ccd.header[\"imagetyp\"] = \"dark mask\"\n",
    "as_ccd.write(REDUCED_PATH / \"dark_current_mask.fit\")\n",
    "\n",
    "print(f\"Hot pixels in mask: {hot_pixels.sum()}\")\n",
    "print(f\"Percent of total pixels: {hot_pixels.sum()/len(dark1.data.flatten()) * 100:.2f}%\")"
   ]
  },
  {
   "cell_type": "code",
   "execution_count": null,
   "metadata": {},
   "outputs": [],
   "source": [
    "from ccdproc import ccdmask\n",
    "\n",
    "flat1 = REDUCED_PATH / \"combined_flat_15C_median_jun2022.fit\"\n",
    "flat2 = REDUCED_PATH / \"combined_flat_12C_median_jul2022.fit\"\n",
    "flat1_ccd = CCDData.read(flat1, units=adu)\n",
    "flat2_ccd = CCDData.read(flat2, units=adu)\n",
    "\n",
    "ratio = flat1_ccd.divide(flat2_ccd)\n",
    "print(f\"Ratio of Flats: {ratio.data.mean()}\")\n",
    "\n",
    "flatmask = ccdmask(ratio)\n",
    "mask_as_ccd = CCDData(data=flatmask.astype(\"uint8\"), unit=dimensionless_unscaled)\n",
    "mask_as_ccd.header[\"imagetyp\"] = \"flat mask\"\n",
    "mask_as_ccd.write(REDUCED_PATH / \"flat_mask.fit\")\n",
    "\n",
    "print(f\"Number of pixels in flatmask: {mask_as_ccd.data.sum()}\")\n",
    "print(f\"Percent of total pixels: {mask_as_ccd.data.sum()/len(flat1_ccd.data.flatten()) * 100:.2f}%\")\n",
    "\n",
    "plt.figure(figsize=(12,12), dpi=200)\n",
    "plt.imshow(flatmask.data, cmap='gray')\n",
    "plt.colorbar()"
   ]
  },
  {
   "cell_type": "code",
   "execution_count": null,
   "metadata": {},
   "outputs": [],
   "source": [
    "combined_mask = mask_as_ccd.data | as_ccd.data\n",
    "combined_mask = CCDData(data=combined_mask.astype(\"uint8\"), unit=dimensionless_unscaled)\n",
    "combined_mask.write(REDUCED_PATH / \"combined_mask.fit\")"
   ]
  },
  {
   "cell_type": "code",
   "execution_count": null,
   "metadata": {},
   "outputs": [],
   "source": [
    "print(f\"Number of pixels in combined mask: {combined_mask.data.sum()}\")\n",
    "print(f\"Percent of total pixels: {combined_mask.data.sum()/len(flat1_ccd.data.flatten()) * 100:.2f}%\")\n",
    "\n",
    "plt.figure(figsize=(12,12), dpi=200)\n",
    "plt.imshow(combined_mask.data, cmap='inferno')\n",
    "plt.colorbar()"
   ]
  }
 ],
 "metadata": {
  "interpreter": {
   "hash": "5ee390c732bbe3cddb98665d89892b2473c88eaa91dc183b6cfe090be423745e"
  },
  "kernelspec": {
   "display_name": "Python 3.9.5 ('install')",
   "language": "python",
   "name": "python3"
  },
  "language_info": {
   "codemirror_mode": {
    "name": "ipython",
    "version": 3
   },
   "file_extension": ".py",
   "mimetype": "text/x-python",
   "name": "python",
   "nbconvert_exporter": "python",
   "pygments_lexer": "ipython3",
   "version": "3.9.5"
  },
  "orig_nbformat": 4
 },
 "nbformat": 4,
 "nbformat_minor": 2
}
