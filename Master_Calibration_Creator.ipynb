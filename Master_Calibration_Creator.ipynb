{
 "cells": [
  {
   "cell_type": "markdown",
   "metadata": {},
   "source": [
    "#  Calibration Image Master Creation notebook\n",
    "\n",
    "This notebook calibrates Bias images, Dark images and Flat images and combines them into their respective Master files\n",
    "\n",
    "Made by: Harlan Shaw <harlan.shaw@ucalgary.ca>\n",
    "\n",
    "## Required Python packages:\n",
    "[Astropy](https://www.astropy.org/)\n",
    "\n",
    "[CCDProc](https://ccdproc.readthedocs.io/en/latest/index.html)\n",
    "\n",
    "[Astro-SCRAPPY](https://github.com/astropy/astroscrappy)\n",
    "\n",
    "It's recommended you download and install [Anaconda](https://www.anaconda.com/products/individual#Downloads) as this contains a Python environment and Astropy.\n",
    "\n",
    "You will need to install CCDProc using the Conda install command: `conda install -c conda-forge ccdproc`\n",
    "\n",
    "This will also install Astropy and Astro-SCRAPPY if not already installed.\n",
    "\n",
    "## Citations:\n",
    "This project uses:\n",
    "\n",
    "[Astropy](https://www.astropy.org/acknowledging.html)\n",
    "\n",
    "[CCDProc](https://ccdproc.readthedocs.io/en/latest/citation.html)\n",
    "\n",
    "[Astro-SCRAPPY](https://github.com/astropy/astroscrappy)\n"
   ]
  },
  {
   "cell_type": "markdown",
   "metadata": {},
   "source": [
    "\n",
    "## How to Use\n",
    "\n",
    "It's recommended you click \"Run All Cells\" to run this notebook, but you may optionally run each cell individually.\n",
    "\n",
    "This notebook requires the location of your raw bias images as either a full location or as a relative path if you have the bias images in the folder that this notebook is located in.\n",
    "\n",
    "Example:\n",
    "\n",
    "Full location: C:\\path\\to\\bias\n",
    "\n",
    "Relative: path\\to\\bias\n"
   ]
  },
  {
   "cell_type": "markdown",
   "metadata": {},
   "source": [
    "\n",
    "# Setup\n",
    "\n",
    "All variables are set up in this cell. If this cell is not run, the program will not run."
   ]
  },
  {
   "cell_type": "code",
   "execution_count": null,
   "metadata": {},
   "outputs": [],
   "source": [
    "from pathlib import Path\n",
    "from astropy.nddata import CCDData\n",
    "from astropy.stats import mad_std\n",
    "from astropy.units import adu, second\n",
    "from astropy.wcs import FITSFixedWarning\n",
    "from ccdproc import ImageFileCollection, combine, subtract_bias, subtract_dark\n",
    "import matplotlib.pyplot as plt\n",
    "import numpy as np\n",
    "import logging\n",
    "import warnings\n",
    "\n",
    "warnings.filterwarnings(\"ignore\", category=FITSFixedWarning)\n",
    "\n",
    "\n",
    "GIGABYTE = 1e9 # 1 billion bytes\n",
    "MEMORY_LIMIT = 10*GIGABYTE\n",
    "\n",
    "data_directory = Path(\".\") # directory that notebooks are in.\n",
    "DARKS_PATH = data_directory / \"Darks_20C\"\n",
    "BIAS_PATH = data_directory / \"Bias\"\n",
    "FLATS_PATH = data_directory / \"Flats\"\n",
    "REDUCED_PATH = data_directory / \"reduced\"\n",
    "# make sure reduced path exists\n",
    "REDUCED_PATH.mkdir(exist_ok=True)\n",
    "\n",
    "#useful functions\n",
    "def inv_average(data):\n",
    "    return 1/np.average(data)\n",
    "\n",
    "def inv_median(data):\n",
    "    return 1/np.median(data)\n",
    "\n",
    "def files_as_paths(directory_path):\n",
    "    fits_images = ImageFileCollection(directory_path, glob_include=\"*.fit*\")\n",
    "    return list(map(lambda x: directory_path / x, fits_images.files))\n",
    "\n",
    "def write_fits(fits_file, file_path):\n",
    "        # convert to HDU so we can scale to 16 bit\n",
    "        fits_file = fits_file.to_hdu(hdu_uncertainty=None)\n",
    "        \n",
    "  \n",
    "        fits_file[0].scale(\"float32\") \n",
    "        fits_file[0].writeto(file_path)"
   ]
  },
  {
   "cell_type": "markdown",
   "metadata": {},
   "source": [
    "\n",
    "# Stage 1: Bias\n",
    "\n",
    "During this stage the master Bias is made, it is integral to the rest of the process and must be done first."
   ]
  },
  {
   "cell_type": "code",
   "execution_count": null,
   "metadata": {},
   "outputs": [],
   "source": [
    "biases = files_as_paths(BIAS_PATH)\n",
    "\n",
    "combined_bias = combine(biases, \n",
    "                        method=\"average\", \n",
    "                        mem_limit = MEMORY_LIMIT,\n",
    "                        sigma_clip=True,\n",
    "                        sigma_clip_low_thresh=5,\n",
    "                        sigma_clip_high_thresh=5,\n",
    "                        sigma_clip_func=np.median,\n",
    "                        sigma_clip_dev_func=mad_std,\n",
    "                        unit=adu)\n",
    "# Annotate header with modification information\n",
    "combined_bias.meta[\"IMAGETYP\"] = \"Bias\"\n",
    "combined_bias.meta['HISTORY'] = f\"Combined {len(biases)} images by mean\"\n",
    "\n",
    "combined_bias_name = REDUCED_PATH / \"combined_bias_mean.fit\"\n",
    "\n",
    "write_fits(combined_bias, combined_bias_name)"
   ]
  },
  {
   "cell_type": "markdown",
   "metadata": {},
   "source": [
    "\n",
    "# Stage 2: Dark\n",
    "\n",
    "Here the master Dark is made. This process requires the use of the master Bias, so Stage 1 must be run first"
   ]
  },
  {
   "cell_type": "code",
   "execution_count": null,
   "metadata": {},
   "outputs": [],
   "source": [
    "darks = ImageFileCollection(DARKS_PATH, glob_include=\"*.fit*\")\n",
    "\n",
    "# Path to store bias-calibrated darks\n",
    "INTERMEDIARY_PATH = Path(DARKS_PATH / \"calibrated\")\n",
    "INTERMEDIARY_PATH.mkdir(exist_ok=True)\n",
    "\n",
    "# combined bias is reloaded to make running all notebook cells in order is unnecessary\n",
    "combined_bias_path = REDUCED_PATH / \"combined_bias_mean.fit\"\n",
    "combined_bias = CCDData.read(combined_bias_path, unit=adu)\n",
    "\n",
    "# for dark in darks.files:\n",
    "    \n",
    "#     dark_name = Path(dark).stem \n",
    "#     # add _b to denote bias subtraction\n",
    "#     modified_dark_name = INTERMEDIARY_PATH / f\"{dark_name}_b.fit\"\n",
    "    \n",
    "#     # Ensure that file does not already exist\n",
    "#     if not modified_dark_name.is_file():\n",
    "#         # Read into memory and calibrate\n",
    "#         dark_ccd = CCDData.read(DARKS_PATH / dark, unit=adu)\n",
    "\n",
    "#         write_fits(dark_ccd, modified_dark_name, write_float=True)\n",
    "\n",
    "\n",
    "combined_dark = combine(files_as_paths(DARKS_PATH), \n",
    "                        method=\"average\", \n",
    "                        mem_limit = MEMORY_LIMIT,\n",
    "                        sigma_clip=True,\n",
    "                        sigma_clip_low_thresh=5,\n",
    "                        sigma_clip_high_thresh=5,\n",
    "                        sigma_clip_func=np.median,\n",
    "                        sigma_clip_dev_func=mad_std,\n",
    "                        unit=adu)\n",
    "\n",
    "combined_dark = subtract_bias(ccd=combined_dark, \n",
    "                        master=combined_bias, \n",
    "                        add_keyword={\"HISTORY\": f\"Subtracted master bias combined_bias.fit\"})\n",
    "combined_dark.data = np.around(combined_dark.data)\n",
    "# Get temperature to add to name\n",
    "temp = round(combined_dark.header[\"CCD-TEMP\"])\n",
    "\n",
    "# annotate header with important information\n",
    "combined_dark.meta[\"IMAGETYP\"] = \"Dark\"\n",
    "combined_dark.meta['combined'] = True\n",
    "combined_dark.meta['HISTORY'] = f\"Combined {len(darks.files)} images by mean\"\n",
    "# Create new output path\n",
    "combined_dark_name = REDUCED_PATH / f\"combined_dark_{temp}C_mean.fit\"\n",
    "\n",
    "write_fits(combined_dark, combined_dark_name)"
   ]
  },
  {
   "cell_type": "markdown",
   "metadata": {},
   "source": [
    "\n",
    "# Stage 3: Flat\n",
    "\n",
    "Here the master Flat is made. This process requires the use of the master Bias and master Dark, so Stage 1 and 2 must be run first"
   ]
  },
  {
   "cell_type": "markdown",
   "metadata": {},
   "source": [
    "### Part 1: Calibrate the flat files"
   ]
  },
  {
   "cell_type": "code",
   "execution_count": null,
   "metadata": {},
   "outputs": [],
   "source": [
    "flats = ImageFileCollection(FLATS_PATH, glob_include=\"*.fit*\")\n",
    "# Path to store bias and dark-calibrated flats\n",
    "INTERMEDIARY_PATH = Path(FLATS_PATH / \"calibrated\")\n",
    "INTERMEDIARY_PATH.mkdir(exist_ok=True)\n",
    "\n",
    "# combined bias and dark is reloaded to make running all notebook cells in order is unnecessary\n",
    "combined_bias = CCDData.read(REDUCED_PATH /\"combined_bias_mean.fit\")\n",
    "combined_dark = CCDData.read(REDUCED_PATH /\"combined_dark_5C_mean.fit\")\n",
    "\n",
    "for flat in flats.files:\n",
    "    # Get name and make new full filename to write to\n",
    "    flat_name = Path(flat).stem \n",
    "    modified_flat_name = INTERMEDIARY_PATH / f\"{flat_name}_b_d.fit\"\n",
    "    \n",
    "    if not modified_flat_name.is_file():\n",
    "        # Read into memory and calibrate\n",
    "        flat_ccd = CCDData.read(FLATS_PATH / flat, unit=adu)\n",
    "        flat_ccd = subtract_bias(ccd=flat_ccd, \n",
    "                                master=combined_bias, \n",
    "                                add_keyword={\"HISTORY\": f\"Subtracted master bias combined_bias.fit\"})\n",
    "        flat_ccd = subtract_dark(ccd=flat_ccd, \n",
    "                                master=combined_dark, \n",
    "                                exposure_time=\"EXPTIME\", \n",
    "                                exposure_unit=second, \n",
    "                                scale=True, # Scales exposure time to flat\n",
    "                                add_keyword={\"HISTORY\": f\"Subtracted master bias combined_dark.fit\"})\n",
    "        #flat_ccd = cosmicray_lacosmic(ccd=flat_ccd, gain=1.42, readnoise=15.1, fsmode=\"convolve\", cleantype=\"median\", gain_apply=True)\n",
    "        write_fits(flat_ccd, file_path=modified_flat_name)\n",
    "        \n"
   ]
  },
  {
   "cell_type": "markdown",
   "metadata": {},
   "source": [
    "### Part 2: Combine the flat files"
   ]
  },
  {
   "cell_type": "code",
   "execution_count": null,
   "metadata": {},
   "outputs": [],
   "source": [
    "\n",
    "INTERMEDIARY_PATH = Path(FLATS_PATH / \"calibrated\") \n",
    "paths = files_as_paths(FLATS_PATH)\n",
    "    \n",
    "combined_flat = combine(paths, \n",
    "                        method=\"median\", \n",
    "                        mem_limit = MEMORY_LIMIT,\n",
    "                        scale= inv_median,\n",
    "                        sigma_clip=True,\n",
    "                        sigma_clip_low_thresh=5,\n",
    "                        sigma_clip_high_thresh=5,\n",
    "                        sigma_clip_func=np.median,\n",
    "                        sigma_clip_dev_func=mad_std,\n",
    "                        dtype=\"float32\",\n",
    "                        unit=adu)\n",
    "# Annotate header with useful information\n",
    "combined_flat.meta[\"IMAGETYP\"] = \"Flat\"\n",
    "combined_flat.meta['combined'] = True\n",
    "combined_flat.meta['HISTORY'] = f\"Combined {len(paths)} images by median\"\n",
    "combined_flat_name = REDUCED_PATH / \"combined_flat_median_calib_after.fit\"\n",
    "\n",
    "write_fits(combined_flat, file_path=combined_flat_name)"
   ]
  },
  {
   "cell_type": "markdown",
   "metadata": {},
   "source": [
    "# Experimentation beyond this point\n",
    "\n",
    "You may safely ignore everything below here."
   ]
  },
  {
   "cell_type": "code",
   "execution_count": null,
   "metadata": {},
   "outputs": [],
   "source": [
    "import matplotlib.pyplot as plt\n",
    "from astropy.units import electron\n",
    "from astropy.visualization import hist\n",
    "cool_dark = CCDData.read(REDUCED_PATH / \"combined_dark_1c_mean.fit\", unit=adu).multiply(1.42 * electron / adu).divide(60*second)\n",
    "old_dark = CCDData.read(REDUCED_PATH / \"combined_dark_5c_mean.fit\", unit=adu).multiply(1.42 * electron / adu).divide(90*second)\n",
    "\n",
    "plt.figure(figsize=(20, 10))\n",
    "\n",
    "hist(cool_dark.data.flatten(), bins=5000, density=False, label='90 sec 1c dark', alpha=0.4)\n",
    "hist(old_dark.data.flatten(), bins=5000, density=False, label='90 sec 5c dark', alpha=0.4)\n",
    "plt.xlabel('dark current, $e^-$/sec')\n",
    "plt.ylabel('Number of pixels')\n",
    "plt.loglog()\n",
    "plt.legend();"
   ]
  },
  {
   "cell_type": "code",
   "execution_count": null,
   "metadata": {},
   "outputs": [],
   "source": [
    "hot_pixels = (cool_dark.data > 3.0)\n",
    "plt.figure(figsize=(10, 10))\n",
    "plt.plot(cool_dark.data[hot_pixels].flatten(), old_dark.data[hot_pixels].flatten(), '.', alpha=0.2, label='Data')\n",
    "plt.xlabel(\"dark current ($e^-$/sec), 90 sec exposure time\")\n",
    "plt.ylabel(\"dark current ($e^-$/sec), 60 sec exposure time\")\n",
    "plt.xlim((1, 100))\n",
    "plt.ylim((1, 100))\n",
    "plt.plot([0, 100], [0, 100], label='Ideal relationship')\n",
    "plt.grid()\n",
    "plt.legend();"
   ]
  },
  {
   "cell_type": "code",
   "execution_count": null,
   "metadata": {},
   "outputs": [],
   "source": [
    "from astropy.units import dimensionless_unscaled\n",
    "hot_pixels.sum()\n",
    "as_ccd = CCDData(data=hot_pixels.astype(\"uint8\"), unit=dimensionless_unscaled)\n",
    "as_ccd.header[\"imagetyp\"] = \"dark mask\"\n",
    "as_ccd.write(REDUCED_PATH / \"dark_current_mask.fit\")"
   ]
  },
  {
   "cell_type": "code",
   "execution_count": null,
   "metadata": {},
   "outputs": [],
   "source": [
    "from ccdproc import ccdmask\n",
    "\n",
    "flat = REDUCED_PATH / \"combined_flat.fit\"\n",
    "flat_ccd = CCDData.read(flat, units=adu)\n",
    "\n",
    "flatmask = ccdmask(flat_ccd)\n",
    "mask_as_ccd = CCDData(data=flatmask.astype(\"uint8\"), unit=dimensionless_unscaled)\n",
    "mask_as_ccd.header[\"imagetyp\"] = \"flat mask\"\n",
    "mask_as_ccd.write(REDUCED_PATH / \"flat_mask.fit\")\n"
   ]
  },
  {
   "cell_type": "code",
   "execution_count": null,
   "metadata": {},
   "outputs": [],
   "source": [
    "combined_mask = mask_as_ccd.data | as_ccd.data\n",
    "combined_mask = CCDData(data=combined_mask.astype(\"uint8\"), unit=dimensionless_unscaled)\n",
    "combined_mask.write(REDUCED_PATH / \"combined_mask.fit\")"
   ]
  },
  {
   "cell_type": "code",
   "execution_count": null,
   "metadata": {},
   "outputs": [],
   "source": [
    "combined_mask.data.sum()"
   ]
  }
 ],
 "metadata": {
  "interpreter": {
   "hash": "5ee390c732bbe3cddb98665d89892b2473c88eaa91dc183b6cfe090be423745e"
  },
  "kernelspec": {
   "display_name": "Python 3.9.5 ('install')",
   "language": "python",
   "name": "python3"
  },
  "language_info": {
   "codemirror_mode": {
    "name": "ipython",
    "version": 3
   },
   "file_extension": ".py",
   "mimetype": "text/x-python",
   "name": "python",
   "nbconvert_exporter": "python",
   "pygments_lexer": "ipython3",
   "version": "3.9.5"
  },
  "orig_nbformat": 4
 },
 "nbformat": 4,
 "nbformat_minor": 2
}
