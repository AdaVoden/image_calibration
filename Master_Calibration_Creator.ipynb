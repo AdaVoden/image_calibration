{
 "cells": [
  {
   "cell_type": "markdown",
   "source": [
    "#  Calibration Image Master Creation notebook\r\n",
    "\r\n",
    "This notebook calibrates Bias images and combines them into a Master Bias Image.\r\n",
    "\r\n",
    "Made by: Harlan Shaw <harlan.shaw@ucalgary.ca>\r\n",
    "\r\n",
    "## Required Python packages:\r\n",
    "[Astropy](https://www.astropy.org/)\r\n",
    "\r\n",
    "[CCDProc](https://ccdproc.readthedocs.io/en/latest/index.html)\r\n",
    "\r\n",
    "[Astro-SCRAPPY](https://github.com/astropy/astroscrappy)\r\n",
    "\r\n",
    "It's recommended you download and install [Anaconda](https://www.anaconda.com/products/individual#Downloads) as this contains a Python environment and Astropy.\r\n",
    "\r\n",
    "You will need to install CCDProc using the Conda install command: `conda install -c conda-forge ccdproc`\r\n",
    "\r\n",
    "This will also install Astropy and Astro-SCRAPPY if not already installed.\r\n",
    "\r\n",
    "## Citations:\r\n",
    "With the projects used above, any use of this notebook requires the citations of the Python packages and papers from which they are derived. \r\n",
    "Their citations are located here:\r\n",
    "\r\n",
    "[Astropy](https://www.astropy.org/acknowledging.html)\r\n",
    "\r\n",
    "[CCDProc](https://ccdproc.readthedocs.io/en/latest/citation.html)\r\n",
    "\r\n",
    "[Astro-SCRAPPY](https://github.com/astropy/astroscrappy)\r\n"
   ],
   "metadata": {}
  },
  {
   "cell_type": "markdown",
   "source": [
    "\r\n",
    "## How to Use\r\n",
    "\r\n",
    "It's recommended you click \"Run All Cells\" to run this notebook, but you may optionally run each cell individually.\r\n",
    "\r\n",
    "This notebook requires the location of your raw bias images as either a full location or as a relative path if you have the bias images in the folder that this notebook is located in.\r\n",
    "\r\n",
    "Example:\r\n",
    "\r\n",
    "Full location: C:\\path\\to\\bias\r\n",
    "\r\n",
    "Relative: path\\to\\bias\r\n"
   ],
   "metadata": {}
  },
  {
   "cell_type": "markdown",
   "source": [
    "\r\n",
    "# Setup\r\n",
    "\r\n",
    "All variables are set up in this cell. If this cell is not run, the program will not run."
   ],
   "metadata": {}
  },
  {
   "cell_type": "code",
   "execution_count": 1,
   "source": [
    "from pathlib import Path\r\n",
    "from astropy.nddata import CCDData\r\n",
    "from astropy.stats import mad_std\r\n",
    "from astropy.units import adu, second\r\n",
    "from ccdproc import ImageFileCollection, combine, subtract_bias, subtract_dark\r\n",
    "import matplotlib.pyplot as plt\r\n",
    "\r\n",
    "import numpy as np\r\n",
    "\r\n",
    "GIGABYTE = 1e9 # 1 billion bytes\r\n",
    "\r\n",
    "data_directory = Path(\".\") # directory that notebooks are in.\r\n",
    "reduced_path = data_directory.joinpath(\"reduced\")\r\n",
    "reduced_path.mkdir(exist_ok=True)"
   ],
   "outputs": [],
   "metadata": {}
  },
  {
   "cell_type": "markdown",
   "source": [
    "\r\n",
    "# Stage 1: Bias\r\n",
    "\r\n",
    "During this stage the master Bias is made, it is integral to the rest of the process and must be done first."
   ],
   "metadata": {}
  },
  {
   "cell_type": "code",
   "execution_count": 2,
   "source": [
    "biases = ImageFileCollection(data_directory, glob_include=\"*bias*.fit\")\r\n",
    "\r\n",
    "combined_bias = combine(biases.files, \r\n",
    "                        method=\"average\", \r\n",
    "                        sigma_clip=True, \r\n",
    "                        sigma_clip_low_thresh=5, \r\n",
    "                        sigma_clip_high_thresh=5, \r\n",
    "                        sigma_clip_func=np.ma.median, \r\n",
    "                        sigma_clip_dev_func=mad_std,\r\n",
    "                        mem_limit = GIGABYTE,\r\n",
    "                        unit=adu)\r\n",
    "\r\n",
    "combined_bias.meta['combined'] = True\r\n",
    "combined_bias.meta['numcomb'] = len(biases.files)\r\n",
    "\r\n",
    "combined_bias.write(reduced_path / \"combined_bias.fit\")"
   ],
   "outputs": [
    {
     "output_type": "stream",
     "name": "stderr",
     "text": [
      "WARNING: FITSFixedWarning: 'datfix' made the change 'Set MJD-OBS to 59289.127362 from DATE-OBS.\n",
      "Set MJD-END to 59289.127362 from DATE-END'. [astropy.wcs.wcs]\n",
      "WARNING:astropy:FITSFixedWarning: 'datfix' made the change 'Set MJD-OBS to 59289.127362 from DATE-OBS.\n",
      "Set MJD-END to 59289.127362 from DATE-END'.\n",
      "INFO:astropy:splitting each image into 2 chunks to limit memory usage to 1000000000.0 bytes.\n",
      "WARNING: FITSFixedWarning: 'datfix' made the change 'Set MJD-OBS to 59289.127467 from DATE-OBS.\n",
      "Set MJD-END to 59289.127467 from DATE-END'. [astropy.wcs.wcs]\n",
      "WARNING:astropy:FITSFixedWarning: 'datfix' made the change 'Set MJD-OBS to 59289.127467 from DATE-OBS.\n",
      "Set MJD-END to 59289.127467 from DATE-END'.\n",
      "WARNING: FITSFixedWarning: 'datfix' made the change 'Set MJD-OBS to 59289.127571 from DATE-OBS.\n",
      "Set MJD-END to 59289.127571 from DATE-END'. [astropy.wcs.wcs]\n",
      "WARNING:astropy:FITSFixedWarning: 'datfix' made the change 'Set MJD-OBS to 59289.127571 from DATE-OBS.\n",
      "Set MJD-END to 59289.127571 from DATE-END'.\n",
      "WARNING: FITSFixedWarning: 'datfix' made the change 'Set MJD-OBS to 59289.127676 from DATE-OBS.\n",
      "Set MJD-END to 59289.127676 from DATE-END'. [astropy.wcs.wcs]\n",
      "WARNING:astropy:FITSFixedWarning: 'datfix' made the change 'Set MJD-OBS to 59289.127676 from DATE-OBS.\n",
      "Set MJD-END to 59289.127676 from DATE-END'.\n",
      "WARNING: FITSFixedWarning: 'datfix' made the change 'Set MJD-OBS to 59289.127781 from DATE-OBS.\n",
      "Set MJD-END to 59289.127781 from DATE-END'. [astropy.wcs.wcs]\n",
      "WARNING:astropy:FITSFixedWarning: 'datfix' made the change 'Set MJD-OBS to 59289.127781 from DATE-OBS.\n",
      "Set MJD-END to 59289.127781 from DATE-END'.\n",
      "WARNING: FITSFixedWarning: 'datfix' made the change 'Set MJD-OBS to 59289.127885 from DATE-OBS.\n",
      "Set MJD-END to 59289.127885 from DATE-END'. [astropy.wcs.wcs]\n",
      "WARNING:astropy:FITSFixedWarning: 'datfix' made the change 'Set MJD-OBS to 59289.127885 from DATE-OBS.\n",
      "Set MJD-END to 59289.127885 from DATE-END'.\n",
      "WARNING: FITSFixedWarning: 'datfix' made the change 'Set MJD-OBS to 59289.127990 from DATE-OBS.\n",
      "Set MJD-END to 59289.127990 from DATE-END'. [astropy.wcs.wcs]\n",
      "WARNING:astropy:FITSFixedWarning: 'datfix' made the change 'Set MJD-OBS to 59289.127990 from DATE-OBS.\n",
      "Set MJD-END to 59289.127990 from DATE-END'.\n"
     ]
    },
    {
     "output_type": "stream",
     "name": "stdout",
     "text": [
      "INFO: splitting each image into 2 chunks to limit memory usage to 1000000000.0 bytes. [ccdproc.combiner]\n"
     ]
    }
   ],
   "metadata": {}
  },
  {
   "cell_type": "markdown",
   "source": [
    "\r\n",
    "# Stage 2: Dark\r\n",
    "\r\n",
    "Here the master Dark is made. This process requires the use of the master Bias, so Stage 1 must be run first"
   ],
   "metadata": {}
  },
  {
   "cell_type": "code",
   "execution_count": 3,
   "source": [
    "darks = ImageFileCollection(data_directory, glob_include=\"*dark*.fit\")\r\n",
    "\r\n",
    "# Calibration\r\n",
    "calibrated_darks_path = data_directory.joinpath(\"bias_removed_darks\")\r\n",
    "calibrated_darks_path.mkdir(exist_ok=True)\r\n",
    "\r\n",
    "for dark in darks.files:\r\n",
    "    dark = Path(dark)\r\n",
    "    dark_ccd = CCDData.read(dark, unit=adu)\r\n",
    "    dark_ccd = subtract_bias(dark_ccd, combined_bias)\r\n",
    "    dark_ccd.write(calibrated_darks_path.joinpath(dark))\r\n",
    "    \r\n",
    "calibrated_darks = ImageFileCollection(calibrated_darks_path, glob_include=\"*dark*.fit\")\r\n",
    "combined_dark = combine(calibrated_darks.files, \r\n",
    "                        method=\"average\", \r\n",
    "                        sigma_clip=True, \r\n",
    "                        sigma_clip_low_thresh=5, \r\n",
    "                        sigma_clip_high_thresh=5, \r\n",
    "                        sigma_clip_func=np.ma.median, \r\n",
    "                        sigma_clip_dev_func=mad_std,\r\n",
    "                        mem_limit = GIGABYTE,\r\n",
    "                        unit=adu)\r\n",
    "\r\n",
    "combined_dark.meta['combined'] = True\r\n",
    "combined_dark.meta['numcomb'] = len(darks.files)\r\n",
    "\r\n",
    "combined_dark.write(reduced_path / \"combined_dark.fit\")"
   ],
   "outputs": [
    {
     "output_type": "stream",
     "name": "stderr",
     "text": [
      "WARNING: FITSFixedWarning: 'datfix' made the change 'Set MJD-OBS to 59289.106405 from DATE-OBS.\n",
      "Set MJD-END to 59289.107446 from DATE-END'. [astropy.wcs.wcs]\n",
      "WARNING:astropy:FITSFixedWarning: 'datfix' made the change 'Set MJD-OBS to 59289.106405 from DATE-OBS.\n",
      "Set MJD-END to 59289.107446 from DATE-END'.\n",
      "WARNING: FITSFixedWarning: 'datfix' made the change 'Set MJD-OBS to 59289.107555 from DATE-OBS.\n",
      "Set MJD-END to 59289.108597 from DATE-END'. [astropy.wcs.wcs]\n",
      "WARNING:astropy:FITSFixedWarning: 'datfix' made the change 'Set MJD-OBS to 59289.107555 from DATE-OBS.\n",
      "Set MJD-END to 59289.108597 from DATE-END'.\n",
      "WARNING: FITSFixedWarning: 'datfix' made the change 'Set MJD-OBS to 59289.108705 from DATE-OBS.\n",
      "Set MJD-END to 59289.109747 from DATE-END'. [astropy.wcs.wcs]\n",
      "WARNING:astropy:FITSFixedWarning: 'datfix' made the change 'Set MJD-OBS to 59289.108705 from DATE-OBS.\n",
      "Set MJD-END to 59289.109747 from DATE-END'.\n",
      "WARNING: FITSFixedWarning: 'datfix' made the change 'Set MJD-OBS to 59289.109855 from DATE-OBS.\n",
      "Set MJD-END to 59289.110897 from DATE-END'. [astropy.wcs.wcs]\n",
      "WARNING:astropy:FITSFixedWarning: 'datfix' made the change 'Set MJD-OBS to 59289.109855 from DATE-OBS.\n",
      "Set MJD-END to 59289.110897 from DATE-END'.\n",
      "WARNING: FITSFixedWarning: 'datfix' made the change 'Set MJD-OBS to 59289.111006 from DATE-OBS.\n",
      "Set MJD-END to 59289.112047 from DATE-END'. [astropy.wcs.wcs]\n",
      "WARNING:astropy:FITSFixedWarning: 'datfix' made the change 'Set MJD-OBS to 59289.111006 from DATE-OBS.\n",
      "Set MJD-END to 59289.112047 from DATE-END'.\n",
      "WARNING: FITSFixedWarning: 'datfix' made the change 'Set MJD-OBS to 59289.106405 from DATE-OBS.\n",
      "Set MJD-END to 59289.107446 from DATE-END'. [astropy.wcs.wcs]\n",
      "WARNING:astropy:FITSFixedWarning: 'datfix' made the change 'Set MJD-OBS to 59289.106405 from DATE-OBS.\n",
      "Set MJD-END to 59289.107446 from DATE-END'.\n",
      "INFO:astropy:splitting each image into 2 chunks to limit memory usage to 1000000000.0 bytes.\n",
      "WARNING: FITSFixedWarning: 'datfix' made the change 'Set MJD-OBS to 59289.107555 from DATE-OBS.\n",
      "Set MJD-END to 59289.108597 from DATE-END'. [astropy.wcs.wcs]\n",
      "WARNING:astropy:FITSFixedWarning: 'datfix' made the change 'Set MJD-OBS to 59289.107555 from DATE-OBS.\n",
      "Set MJD-END to 59289.108597 from DATE-END'.\n",
      "WARNING: FITSFixedWarning: 'datfix' made the change 'Set MJD-OBS to 59289.108705 from DATE-OBS.\n",
      "Set MJD-END to 59289.109747 from DATE-END'. [astropy.wcs.wcs]\n",
      "WARNING:astropy:FITSFixedWarning: 'datfix' made the change 'Set MJD-OBS to 59289.108705 from DATE-OBS.\n",
      "Set MJD-END to 59289.109747 from DATE-END'.\n",
      "WARNING: FITSFixedWarning: 'datfix' made the change 'Set MJD-OBS to 59289.109855 from DATE-OBS.\n",
      "Set MJD-END to 59289.110897 from DATE-END'. [astropy.wcs.wcs]\n",
      "WARNING:astropy:FITSFixedWarning: 'datfix' made the change 'Set MJD-OBS to 59289.109855 from DATE-OBS.\n",
      "Set MJD-END to 59289.110897 from DATE-END'.\n",
      "WARNING: FITSFixedWarning: 'datfix' made the change 'Set MJD-OBS to 59289.111006 from DATE-OBS.\n",
      "Set MJD-END to 59289.112047 from DATE-END'. [astropy.wcs.wcs]\n",
      "WARNING:astropy:FITSFixedWarning: 'datfix' made the change 'Set MJD-OBS to 59289.111006 from DATE-OBS.\n",
      "Set MJD-END to 59289.112047 from DATE-END'.\n"
     ]
    },
    {
     "output_type": "stream",
     "name": "stdout",
     "text": [
      "INFO: splitting each image into 2 chunks to limit memory usage to 1000000000.0 bytes. [ccdproc.combiner]\n"
     ]
    }
   ],
   "metadata": {}
  },
  {
   "cell_type": "markdown",
   "source": [
    "\r\n",
    "# Stage 3: Flat\r\n",
    "\r\n",
    "Here the master Flat is made. This process requires the use of the master Bias and master Dark, so Stage 1 and 2 must be run first"
   ],
   "metadata": {}
  },
  {
   "cell_type": "code",
   "execution_count": 4,
   "source": [
    "flats = ImageFileCollection(data_directory, glob_include=\"*flat*.fit\")\r\n",
    "\r\n",
    "# Calibration\r\n",
    "calibrated_flats_path = data_directory.joinpath(\"bias_dark_removed_flats\")\r\n",
    "calibrated_flats_path.mkdir(exist_ok=True)\r\n",
    "\r\n",
    "for flat in flats.files:\r\n",
    "    flat = Path(flat)\r\n",
    "    flat_ccd = CCDData.read(flat, unit=adu)\r\n",
    "    flat_ccd = subtract_bias(flat_ccd, combined_bias)\r\n",
    "    flat_ccd = subtract_dark(flat_ccd, combined_dark, exposure_time=\"EXPTIME\", exposure_unit=second, scale=True)\r\n",
    "    flat_ccd.write(calibrated_flats_path.joinpath(flat))\r\n",
    "    \r\n",
    "calibrated_flats = ImageFileCollection(calibrated_flats_path, glob_include=\"*flat*.fit\")\r\n",
    "combined_flat = combine(calibrated_flats.files, \r\n",
    "                        method=\"average\", \r\n",
    "                        sigma_clip=True, \r\n",
    "                        sigma_clip_low_thresh=5, \r\n",
    "                        sigma_clip_high_thresh=5, \r\n",
    "                        sigma_clip_func=np.ma.median, \r\n",
    "                        sigma_clip_dev_func=mad_std,\r\n",
    "                        mem_limit = GIGABYTE,\r\n",
    "                        unit=adu)\r\n",
    "\r\n",
    "combined_flat.meta['combined'] = True\r\n",
    "combined_flat.meta['numcomb'] = len(flats.files)\r\n",
    "\r\n",
    "combined_flat.write(reduced_path / \"combined_flat.fit\")"
   ],
   "outputs": [
    {
     "output_type": "stream",
     "name": "stderr",
     "text": [
      "WARNING: FITSFixedWarning: 'datfix' made the change 'Set MJD-OBS to 59289.097990 from DATE-OBS.\n",
      "Set MJD-END to 59289.098337 from DATE-END'. [astropy.wcs.wcs]\n",
      "WARNING:astropy:FITSFixedWarning: 'datfix' made the change 'Set MJD-OBS to 59289.097990 from DATE-OBS.\n",
      "Set MJD-END to 59289.098337 from DATE-END'.\n",
      "WARNING: FITSFixedWarning: 'datfix' made the change 'Set MJD-OBS to 59289.098446 from DATE-OBS.\n",
      "Set MJD-END to 59289.098794 from DATE-END'. [astropy.wcs.wcs]\n",
      "WARNING:astropy:FITSFixedWarning: 'datfix' made the change 'Set MJD-OBS to 59289.098446 from DATE-OBS.\n",
      "Set MJD-END to 59289.098794 from DATE-END'.\n",
      "WARNING: FITSFixedWarning: 'datfix' made the change 'Set MJD-OBS to 59289.098902 from DATE-OBS.\n",
      "Set MJD-END to 59289.099249 from DATE-END'. [astropy.wcs.wcs]\n",
      "WARNING:astropy:FITSFixedWarning: 'datfix' made the change 'Set MJD-OBS to 59289.098902 from DATE-OBS.\n",
      "Set MJD-END to 59289.099249 from DATE-END'.\n",
      "WARNING: FITSFixedWarning: 'datfix' made the change 'Set MJD-OBS to 59289.099358 from DATE-OBS.\n",
      "Set MJD-END to 59289.099705 from DATE-END'. [astropy.wcs.wcs]\n",
      "WARNING:astropy:FITSFixedWarning: 'datfix' made the change 'Set MJD-OBS to 59289.099358 from DATE-OBS.\n",
      "Set MJD-END to 59289.099705 from DATE-END'.\n",
      "WARNING: FITSFixedWarning: 'datfix' made the change 'Set MJD-OBS to 59289.097990 from DATE-OBS.\n",
      "Set MJD-END to 59289.098337 from DATE-END'. [astropy.wcs.wcs]\n",
      "WARNING:astropy:FITSFixedWarning: 'datfix' made the change 'Set MJD-OBS to 59289.097990 from DATE-OBS.\n",
      "Set MJD-END to 59289.098337 from DATE-END'.\n",
      "INFO:astropy:splitting each image into 2 chunks to limit memory usage to 1000000000.0 bytes.\n",
      "WARNING: FITSFixedWarning: 'datfix' made the change 'Set MJD-OBS to 59289.098446 from DATE-OBS.\n",
      "Set MJD-END to 59289.098794 from DATE-END'. [astropy.wcs.wcs]\n",
      "WARNING:astropy:FITSFixedWarning: 'datfix' made the change 'Set MJD-OBS to 59289.098446 from DATE-OBS.\n",
      "Set MJD-END to 59289.098794 from DATE-END'.\n",
      "WARNING: FITSFixedWarning: 'datfix' made the change 'Set MJD-OBS to 59289.098902 from DATE-OBS.\n",
      "Set MJD-END to 59289.099249 from DATE-END'. [astropy.wcs.wcs]\n",
      "WARNING:astropy:FITSFixedWarning: 'datfix' made the change 'Set MJD-OBS to 59289.098902 from DATE-OBS.\n",
      "Set MJD-END to 59289.099249 from DATE-END'.\n",
      "WARNING: FITSFixedWarning: 'datfix' made the change 'Set MJD-OBS to 59289.099358 from DATE-OBS.\n",
      "Set MJD-END to 59289.099705 from DATE-END'. [astropy.wcs.wcs]\n",
      "WARNING:astropy:FITSFixedWarning: 'datfix' made the change 'Set MJD-OBS to 59289.099358 from DATE-OBS.\n",
      "Set MJD-END to 59289.099705 from DATE-END'.\n"
     ]
    },
    {
     "output_type": "stream",
     "name": "stdout",
     "text": [
      "INFO: splitting each image into 2 chunks to limit memory usage to 1000000000.0 bytes. [ccdproc.combiner]\n"
     ]
    }
   ],
   "metadata": {}
  }
 ],
 "metadata": {
  "orig_nbformat": 4,
  "language_info": {
   "name": "python",
   "version": "3.9.5",
   "mimetype": "text/x-python",
   "codemirror_mode": {
    "name": "ipython",
    "version": 3
   },
   "pygments_lexer": "ipython3",
   "nbconvert_exporter": "python",
   "file_extension": ".py"
  },
  "kernelspec": {
   "name": "python3",
   "display_name": "Python 3.9.5 64-bit ('install': conda)"
  },
  "interpreter": {
   "hash": "5fb7a811fb9cdc6c6242057950944a92d21f92a2f41c32c32d80e1a312d91f1d"
  }
 },
 "nbformat": 4,
 "nbformat_minor": 2
}